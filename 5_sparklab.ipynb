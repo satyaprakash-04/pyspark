{
 "cells": [
  {
   "cell_type": "markdown",
   "id": "c2843a79-d9d7-4159-a5cb-5ef276887f0a",
   "metadata": {},
   "source": [
    "***Advance usecases of PySpark***"
   ]
  },
  {
   "cell_type": "code",
   "execution_count": 1,
   "id": "b6831ae9-ab82-4f2f-9323-24db7bb08f97",
   "metadata": {},
   "outputs": [],
   "source": [
    "from pyspark.sql import SparkSession\n",
    "from pyspark.sql.types import StructType, StructField, StringType, IntegerType, FloatType, DataType"
   ]
  },
  {
   "cell_type": "code",
   "execution_count": 2,
   "id": "3e9e8b2e-6f47-4745-a243-bf54d71d2af3",
   "metadata": {},
   "outputs": [
    {
     "data": {
      "text/html": [
       "\n",
       "            <div>\n",
       "                <p><b>SparkSession - in-memory</b></p>\n",
       "                \n",
       "        <div>\n",
       "            <p><b>SparkContext</b></p>\n",
       "\n",
       "            <p><a href=\"http://host.docker.internal:4040\">Spark UI</a></p>\n",
       "\n",
       "            <dl>\n",
       "              <dt>Version</dt>\n",
       "                <dd><code>v3.5.5</code></dd>\n",
       "              <dt>Master</dt>\n",
       "                <dd><code>local[*]</code></dd>\n",
       "              <dt>AppName</dt>\n",
       "                <dd><code>sparkAdvanced</code></dd>\n",
       "            </dl>\n",
       "        </div>\n",
       "        \n",
       "            </div>\n",
       "        "
      ],
      "text/plain": [
       "<pyspark.sql.session.SparkSession at 0x21b4c6c4f80>"
      ]
     },
     "execution_count": 2,
     "metadata": {},
     "output_type": "execute_result"
    }
   ],
   "source": [
    "spark = SparkSession.builder.appName('sparkAdvanced').master('local[*]').getOrCreate()\n",
    "spark"
   ]
  },
  {
   "cell_type": "code",
   "execution_count": 13,
   "id": "66b938b9-bc1f-4848-9e68-cf5d87ec338b",
   "metadata": {},
   "outputs": [],
   "source": [
    "# Defining schema for the dataset\n",
    "\n",
    "schema = StructType([\n",
    "    StructField('Age', IntegerType(), nullable=True),\n",
    "    StructField('Gender', StringType(), nullable=True),\n",
    "    StructField('Occupation', StringType(), nullable=True),\n",
    "    StructField('SleepHours', FloatType(), nullable=True),\n",
    "    StructField('PhysicalActivity', FloatType(), nullable=True),\n",
    "    StructField('CaffeineIntake', IntegerType(), nullable=True),\n",
    "    StructField('AlcoholConsumption', IntegerType(), nullable=True),\n",
    "    StructField('Smoking', StringType(), nullable=True),\n",
    "    StructField('FamilyHistory', StringType(), nullable=True),\n",
    "    StructField('StressLevel', IntegerType(), nullable=True),\n",
    "    StructField('HeartRate', IntegerType(), nullable=True),\n",
    "    StructField('BreathingRate', IntegerType(), nullable=True),\n",
    "    StructField('SweatingLevel', IntegerType(), nullable=True),\n",
    "    StructField('Dizziness', StringType(), nullable=True),\n",
    "    StructField('Medication', StringType(), nullable=True),\n",
    "    StructField('TherapySessions', IntegerType(), nullable=True),\n",
    "    StructField('DietQuality', IntegerType(), nullable=True),\n",
    "    StructField('AnxietyLevel', IntegerType(), nullable=True),\n",
    "])"
   ]
  },
  {
   "cell_type": "code",
   "execution_count": 14,
   "id": "298973d2-1874-48b2-8611-1882c502c31e",
   "metadata": {},
   "outputs": [
    {
     "name": "stdout",
     "output_type": "stream",
     "text": [
      "+---+------+----------+----------+----------------+--------------+------------------+-------+-------------+-----------+---------+-------------+-------------+---------+----------+---------------+-----------+------------+\n",
      "|Age|Gender|Occupation|SleepHours|PhysicalActivity|CaffeineIntake|AlcoholConsumption|Smoking|FamilyHistory|StressLevel|HeartRate|BreathingRate|SweatingLevel|Dizziness|Medication|TherapySessions|DietQuality|AnxietyLevel|\n",
      "+---+------+----------+----------+----------------+--------------+------------------+-------+-------------+-----------+---------+-------------+-------------+---------+----------+---------------+-----------+------------+\n",
      "| 29|Female|    Artist|       6.0|             2.7|           181|                10|    Yes|           No|         10|      114|           14|            4|       No|       Yes|              3|          7|           5|\n",
      "| 46| Other|     Nurse|       6.2|             5.7|           200|                 8|    Yes|          Yes|          1|       62|           23|            2|      Yes|        No|              2|          8|           3|\n",
      "+---+------+----------+----------+----------------+--------------+------------------+-------+-------------+-----------+---------+-------------+-------------+---------+----------+---------------+-----------+------------+\n",
      "only showing top 2 rows\n",
      "\n"
     ]
    }
   ],
   "source": [
    "main_df = spark.read.csv('socialanxiety/enhanced_anxiety_dataset.csv', schema=schema, header=True)\n",
    "main_df.show(2)"
   ]
  },
  {
   "cell_type": "code",
   "execution_count": 15,
   "id": "4fbc80b5-3852-42c4-9a69-3e4b6eeef5d0",
   "metadata": {},
   "outputs": [
    {
     "name": "stdout",
     "output_type": "stream",
     "text": [
      "root\n",
      " |-- Age: integer (nullable = true)\n",
      " |-- Gender: string (nullable = true)\n",
      " |-- Occupation: string (nullable = true)\n",
      " |-- SleepHours: float (nullable = true)\n",
      " |-- PhysicalActivity: float (nullable = true)\n",
      " |-- CaffeineIntake: integer (nullable = true)\n",
      " |-- AlcoholConsumption: integer (nullable = true)\n",
      " |-- Smoking: string (nullable = true)\n",
      " |-- FamilyHistory: string (nullable = true)\n",
      " |-- StressLevel: integer (nullable = true)\n",
      " |-- HeartRate: integer (nullable = true)\n",
      " |-- BreathingRate: integer (nullable = true)\n",
      " |-- SweatingLevel: integer (nullable = true)\n",
      " |-- Dizziness: string (nullable = true)\n",
      " |-- Medication: string (nullable = true)\n",
      " |-- TherapySessions: integer (nullable = true)\n",
      " |-- DietQuality: integer (nullable = true)\n",
      " |-- AnxietyLevel: integer (nullable = true)\n",
      "\n"
     ]
    },
    {
     "data": {
      "text/plain": [
       "(None,\n",
       " ['Age',\n",
       "  'Gender',\n",
       "  'Occupation',\n",
       "  'SleepHours',\n",
       "  'PhysicalActivity',\n",
       "  'CaffeineIntake',\n",
       "  'AlcoholConsumption',\n",
       "  'Smoking',\n",
       "  'FamilyHistory',\n",
       "  'StressLevel',\n",
       "  'HeartRate',\n",
       "  'BreathingRate',\n",
       "  'SweatingLevel',\n",
       "  'Dizziness',\n",
       "  'Medication',\n",
       "  'TherapySessions',\n",
       "  'DietQuality',\n",
       "  'AnxietyLevel'])"
      ]
     },
     "execution_count": 15,
     "metadata": {},
     "output_type": "execute_result"
    }
   ],
   "source": [
    "main_df.printSchema(), main_df.columns"
   ]
  },
  {
   "cell_type": "code",
   "execution_count": 20,
   "id": "a75b4009-c021-4323-b093-e36591855e6b",
   "metadata": {},
   "outputs": [
    {
     "name": "stdout",
     "output_type": "stream",
     "text": [
      "+---+------+----------+----------------+------------------+-------+-------------+-----------+---------+-------------+-----------+------------+\n",
      "|Age|Gender|SleepHours|PhysicalActivity|AlcoholConsumption|Smoking|FamilyHistory|StressLevel|HeartRate|SweatingLevel|DietQuality|AnxietyLevel|\n",
      "+---+------+----------+----------------+------------------+-------+-------------+-----------+---------+-------------+-----------+------------+\n",
      "| 29|Female|       6.0|             2.7|                10|    Yes|           No|         10|      114|            4|          7|           5|\n",
      "| 46| Other|       6.2|             5.7|                 8|    Yes|          Yes|          1|       62|            2|          8|           3|\n",
      "| 64|  Male|       5.0|             3.7|                 4|     No|          Yes|          1|       91|            3|          1|           1|\n",
      "| 20|Female|       5.8|             2.8|                 6|    Yes|           No|          4|       86|            3|          1|           2|\n",
      "| 49|Female|       8.2|             2.3|                 4|    Yes|           No|          1|       98|            4|          3|           1|\n",
      "+---+------+----------+----------------+------------------+-------+-------------+-----------+---------+-------------+-----------+------------+\n",
      "only showing top 5 rows\n",
      "\n"
     ]
    }
   ],
   "source": [
    "df = main_df.select(['Age',\n",
    "  'Gender',\n",
    "  'SleepHours',\n",
    "  'PhysicalActivity',\n",
    "  'AlcoholConsumption',\n",
    "  'Smoking',\n",
    "  'FamilyHistory',\n",
    "  'StressLevel',\n",
    "  'HeartRate',\n",
    "  'SweatingLevel',\n",
    "  'DietQuality',\n",
    "  'AnxietyLevel'])\n",
    "df.show(5)"
   ]
  },
  {
   "cell_type": "markdown",
   "id": "4aa28afa-722d-4839-ae18-adf536f93997",
   "metadata": {},
   "source": [
    "*Note:* We can create dataframe out of user input by using **spark.createDataFrame(input_data, schema)**"
   ]
  },
  {
   "cell_type": "markdown",
   "id": "3160655e-3624-47b1-b607-2c3402c2bf80",
   "metadata": {},
   "source": [
    "***df.ccolect()***\n",
    "- We can retrieve data from spark RDD/DataFrame using collect.\n",
    "- It return data in a list of objects\n",
    "- NB: collect() should be used cautiously with large datasets because it can cause OutOfMemoryError on the driver. Alternatives like take() or show() are preferred for sampling or previewing large DataFrames.\n",
    "- docs: https://spark.apache.org/docs/latest/api/python/reference/pyspark.sql/api/pyspark.sql.DataFrame.collect.html"
   ]
  },
  {
   "cell_type": "code",
   "execution_count": 25,
   "id": "9d2b4d66-bb4d-4917-b5e7-91e2d6b1f6b1",
   "metadata": {},
   "outputs": [
    {
     "data": {
      "text/plain": [
       "[Row(Age=29, Gender='Female', SleepHours=6.0, PhysicalActivity=2.700000047683716, AlcoholConsumption=10, Smoking='Yes', FamilyHistory='No', StressLevel=10, HeartRate=114, SweatingLevel=4, DietQuality=7, AnxietyLevel=5),\n",
       " Row(Age=46, Gender='Other', SleepHours=6.199999809265137, PhysicalActivity=5.699999809265137, AlcoholConsumption=8, Smoking='Yes', FamilyHistory='Yes', StressLevel=1, HeartRate=62, SweatingLevel=2, DietQuality=8, AnxietyLevel=3),\n",
       " Row(Age=64, Gender='Male', SleepHours=5.0, PhysicalActivity=3.700000047683716, AlcoholConsumption=4, Smoking='No', FamilyHistory='Yes', StressLevel=1, HeartRate=91, SweatingLevel=3, DietQuality=1, AnxietyLevel=1),\n",
       " Row(Age=20, Gender='Female', SleepHours=5.800000190734863, PhysicalActivity=2.799999952316284, AlcoholConsumption=6, Smoking='Yes', FamilyHistory='No', StressLevel=4, HeartRate=86, SweatingLevel=3, DietQuality=1, AnxietyLevel=2),\n",
       " Row(Age=49, Gender='Female', SleepHours=8.199999809265137, PhysicalActivity=2.299999952316284, AlcoholConsumption=4, Smoking='Yes', FamilyHistory='No', StressLevel=1, HeartRate=98, SweatingLevel=4, DietQuality=3, AnxietyLevel=1)]"
      ]
     },
     "execution_count": 25,
     "metadata": {},
     "output_type": "execute_result"
    }
   ],
   "source": [
    "# Here using limit because collect returns all the record in a dataframe. Thast may cause memory error.\n",
    "df.limit(5).collect()"
   ]
  },
  {
   "cell_type": "markdown",
   "id": "66a67741-34d4-4c79-aae8-f61f4072c396",
   "metadata": {},
   "source": [
    "***RDD(Resilient Distributed Dataset***\n",
    "- A Resilient Distributed Dataset (RDD), the basic abstraction in Spark. Represents an immutable, partitioned collection of elements that can be operated on in parallel."
   ]
  },
  {
   "cell_type": "code",
   "execution_count": 28,
   "id": "9295f267-6781-4aba-a608-a84bfec0b70d",
   "metadata": {},
   "outputs": [
    {
     "data": {
      "text/plain": [
       "MapPartitionsRDD[51] at javaToPython at NativeMethodAccessorImpl.java:0"
      ]
     },
     "execution_count": 28,
     "metadata": {},
     "output_type": "execute_result"
    }
   ],
   "source": [
    "#  To see the Rdd\n",
    "df.rdd"
   ]
  },
  {
   "cell_type": "markdown",
   "id": "c6921b3a-02ad-4bd9-8189-b9b63d4a13a2",
   "metadata": {},
   "source": [
    "***df.take(n)***\n",
    "- Returns Number of first *n* rows of a dataframe.\n",
    "- docs: https://spark.apache.org/docs/latest/api/python/reference/pyspark.sql/api/pyspark.sql.DataFrame.take.html\n",
    "- df.head(n) also has similar functionalities.\n",
    "- df.tail(n) returns last n rows.\n"
   ]
  },
  {
   "cell_type": "code",
   "execution_count": 34,
   "id": "7ae7d65e-f029-4831-b1b7-d8105c63f94d",
   "metadata": {},
   "outputs": [
    {
     "data": {
      "text/plain": [
       "([Row(Age=29, Gender='Female', SleepHours=6.0, PhysicalActivity=2.700000047683716, AlcoholConsumption=10, Smoking='Yes', FamilyHistory='No', StressLevel=10, HeartRate=114, SweatingLevel=4, DietQuality=7, AnxietyLevel=5)],\n",
       " [Row(Age=29, Gender='Female', SleepHours=6.0, PhysicalActivity=2.700000047683716, AlcoholConsumption=10, Smoking='Yes', FamilyHistory='No', StressLevel=10, HeartRate=114, SweatingLevel=4, DietQuality=7, AnxietyLevel=5)],\n",
       " [Row(Age=56, Gender='Other', SleepHours=6.099999904632568, PhysicalActivity=1.100000023841858, AlcoholConsumption=11, Smoking='No', FamilyHistory='No', StressLevel=1, HeartRate=66, SweatingLevel=3, DietQuality=8, AnxietyLevel=2)])"
      ]
     },
     "execution_count": 34,
     "metadata": {},
     "output_type": "execute_result"
    }
   ],
   "source": [
    "df.take(1), df.head(1), df.tail(1)"
   ]
  },
  {
   "cell_type": "code",
   "execution_count": null,
   "id": "cce1c1f3-3665-40db-9aa1-a303f4444dfc",
   "metadata": {},
   "outputs": [],
   "source": []
  }
 ],
 "metadata": {
  "kernelspec": {
   "display_name": "Python 3 (ipykernel)",
   "language": "python",
   "name": "python3"
  },
  "language_info": {
   "codemirror_mode": {
    "name": "ipython",
    "version": 3
   },
   "file_extension": ".py",
   "mimetype": "text/x-python",
   "name": "python",
   "nbconvert_exporter": "python",
   "pygments_lexer": "ipython3",
   "version": "3.12.2"
  }
 },
 "nbformat": 4,
 "nbformat_minor": 5
}
