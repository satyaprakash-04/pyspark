{
 "cells": [
  {
   "cell_type": "code",
   "execution_count": 1,
   "id": "5cc7d287-3bbe-423d-b411-93c0660bf143",
   "metadata": {},
   "outputs": [],
   "source": [
    "from pyspark.sql import SparkSession\n",
    "import os\n",
    "import sys\n",
    "\n",
    "os.environ['PYSPARK_PYTHON'] = sys.executable\n",
    "os.environ['PYSPARK_DRIVER_PYTHON'] = sys.executable"
   ]
  },
  {
   "cell_type": "code",
   "execution_count": 2,
   "id": "76d77b98-ac5b-45b4-aeab-6114e8a34138",
   "metadata": {},
   "outputs": [],
   "source": [
    "sc = SparkSession.builder.appName('spark_app_2').master('local[*]').getOrCreate()"
   ]
  },
  {
   "cell_type": "markdown",
   "id": "d30acfb0-2a74-4019-abc8-13738d4fe1fb",
   "metadata": {},
   "source": [
    "***Creating a dataframe in pyspark***\n",
    "\n",
    "- There are 4 ways for creating a dataframe\n",
    "  1. *Programatically:* From a list of values(list of tuples, list of values, dictionary etc).\n",
    "  2. *From Pandas Dataframe:* (Only valid with the python API)\n",
    "  3. *From a Spark RDD*: by Defining the structure of the data.\n",
    "  4. *From Datasources*: Spark sql supports reading external files through different methods.\n",
    "     - *JSON File:* sc.read.json('path/to/file') method, every line should be in json format.\n",
    "     - *Paraquet File:* sc.read.paraquet('path/to/file') method\n",
    "     - *Csv File:* sc.read.csv('path/to/file') method\n",
    "     - Other kind of file/datasources can be read by using the method spark.read.format('...').load('...')"
   ]
  },
  {
   "cell_type": "code",
   "execution_count": 3,
   "id": "5f6c4daf-8f0d-41cd-829a-6e7f7d437ec6",
   "metadata": {},
   "outputs": [
    {
     "name": "stdout",
     "output_type": "stream",
     "text": [
      "+----------+--------+----+-----------+---------+--------------+-------+-----+-----------+-----+\n",
      "|     Brand|   Model|Year|Engine_Size|Fuel_Type|  Transmission|Mileage|Doors|Owner_Count|Price|\n",
      "+----------+--------+----+-----------+---------+--------------+-------+-----+-----------+-----+\n",
      "|       Kia|     Rio|2020|        4.2|   Diesel|        Manual| 289944|    3|          5| 8501|\n",
      "| Chevrolet|  Malibu|2012|        2.0|   Hybrid|     Automatic|   5356|    2|          3|12092|\n",
      "|  Mercedes|     GLA|2020|        4.2|   Diesel|     Automatic| 231440|    4|          2|11171|\n",
      "|      Audi|      Q5|2023|        2.0| Electric|        Manual| 160971|    2|          1|11780|\n",
      "|Volkswagen|    Golf|2003|        2.6|   Hybrid|Semi-Automatic| 286618|    3|          3| 2867|\n",
      "|    Toyota|   Camry|2007|        2.7|   Petrol|     Automatic| 157889|    4|          4| 7242|\n",
      "|     Honda|   Civic|2010|        3.4| Electric|     Automatic| 139584|    3|          1|11208|\n",
      "|       Kia|Sportage|2001|        4.7| Electric|Semi-Automatic| 157495|    2|          2| 7950|\n",
      "|       Kia|Sportage|2014|        2.6|   Hybrid|        Manual|  98700|    3|          4| 9926|\n",
      "|    Toyota|    RAV4|2005|        3.1|   Petrol|        Manual| 107724|    2|          5| 6545|\n",
      "|       BMW|5 Series|2013|        1.3|   Hybrid|     Automatic| 296824|    2|          3| 5863|\n",
      "|Volkswagen|    Golf|2009|        4.5|   Hybrid|        Manual|  42795|    4|          3|11444|\n",
      "|     Honda|    CR-V|2007|        4.8|   Hybrid|     Automatic| 132875|    3|          4|10842|\n",
      "|   Hyundai| Elantra|2004|        2.3|   Hybrid|Semi-Automatic| 188996|    2|          1| 4820|\n",
      "|Volkswagen|    Golf|2003|        2.4|   Petrol|     Automatic| 145921|    5|          2| 5981|\n",
      "|Volkswagen|    Golf|2007|        3.2|   Diesel|     Automatic|  60103|    2|          1| 9697|\n",
      "|   Hyundai| Elantra|2017|        2.9| Electric|     Automatic|  38133|    5|          2|14837|\n",
      "|Volkswagen|  Tiguan|2006|        4.5| Electric|        Manual|  41161|    2|          2|11576|\n",
      "|       Kia|     Rio|2000|        3.4|   Diesel|Semi-Automatic| 257427|    3|          3| 2351|\n",
      "|  Mercedes|     GLA|2021|        1.5|   Petrol|        Manual|  34640|    2|          1|11207|\n",
      "+----------+--------+----+-----------+---------+--------------+-------+-----+-----------+-----+\n",
      "only showing top 20 rows\n",
      "\n"
     ]
    }
   ],
   "source": [
    "df = sc.read.csv('car_price_dataset.csv', header=True, inferSchema=True)\n",
    "df.show()"
   ]
  },
  {
   "cell_type": "code",
   "execution_count": 4,
   "id": "183c6652-4f5a-47de-8e7c-1081f57c464d",
   "metadata": {},
   "outputs": [],
   "source": [
    "# Creating a dataframe programatically\n",
    "#  To make it workable need to downgrade the python version to 3.9.\n",
    "# os.environ['PYSPARK_PYTHON'] = sys.executable\n",
    "# os.environ['PYSPARK_DRIVER_PYTHON'] = sys.executable\n",
    "# header = ['city', 'type', 'price']\n",
    "# data = map(\n",
    "#     lambda r: (r[0], r[1], float(r[2])), map(\n",
    "#     lambda x: x.split(','),\n",
    "#         [\"Paris,Food,19.00\", \"Marseille,Clothing,12.00\",\n",
    "#             \"Paris,Food,8.00\", \"Paris,Clothing,15.00\",\n",
    "#             \"Marseille,Food,20.00\", \"Lyon,Book,10.00\"]\n",
    "# ))\n",
    "# progrmdf = sc.createDataFrame(data, schema=header)\n",
    "\n",
    "# progrmdf.show()"
   ]
  },
  {
   "cell_type": "code",
   "execution_count": 5,
   "id": "5555d5e9-b786-4b38-8434-97d94d9cbed4",
   "metadata": {},
   "outputs": [
    {
     "name": "stdout",
     "output_type": "stream",
     "text": [
      "3.12.2\n"
     ]
    }
   ],
   "source": [
    "from platform import python_version\n",
    "\n",
    "print(python_version())"
   ]
  },
  {
   "cell_type": "code",
   "execution_count": 6,
   "id": "9009ad7c-9428-4311-86e8-d3c3dd71b968",
   "metadata": {},
   "outputs": [
    {
     "data": {
      "text/plain": [
       "[Row(Brand='Kia', Model='Rio', Year=2020, Engine_Size=4.2, Fuel_Type='Diesel', Transmission='Manual', Mileage=289944, Doors=3, Owner_Count=5, Price=8501),\n",
       " Row(Brand='Chevrolet', Model='Malibu', Year=2012, Engine_Size=2.0, Fuel_Type='Hybrid', Transmission='Automatic', Mileage=5356, Doors=2, Owner_Count=3, Price=12092),\n",
       " Row(Brand='Mercedes', Model='GLA', Year=2020, Engine_Size=4.2, Fuel_Type='Diesel', Transmission='Automatic', Mileage=231440, Doors=4, Owner_Count=2, Price=11171),\n",
       " Row(Brand='Audi', Model='Q5', Year=2023, Engine_Size=2.0, Fuel_Type='Electric', Transmission='Manual', Mileage=160971, Doors=2, Owner_Count=1, Price=11780),\n",
       " Row(Brand='Volkswagen', Model='Golf', Year=2003, Engine_Size=2.6, Fuel_Type='Hybrid', Transmission='Semi-Automatic', Mileage=286618, Doors=3, Owner_Count=3, Price=2867)]"
      ]
     },
     "execution_count": 6,
     "metadata": {},
     "output_type": "execute_result"
    }
   ],
   "source": [
    "# It returns first n rows\n",
    "df.take(5)"
   ]
  },
  {
   "cell_type": "code",
   "execution_count": 7,
   "id": "e1f63292-3f3e-4edf-a1be-1eba8b20a7b2",
   "metadata": {},
   "outputs": [
    {
     "name": "stdout",
     "output_type": "stream",
     "text": [
      "root\n",
      " |-- Brand: string (nullable = true)\n",
      " |-- Model: string (nullable = true)\n",
      " |-- Year: integer (nullable = true)\n",
      " |-- Engine_Size: double (nullable = true)\n",
      " |-- Fuel_Type: string (nullable = true)\n",
      " |-- Transmission: string (nullable = true)\n",
      " |-- Mileage: integer (nullable = true)\n",
      " |-- Doors: integer (nullable = true)\n",
      " |-- Owner_Count: integer (nullable = true)\n",
      " |-- Price: integer (nullable = true)\n",
      "\n"
     ]
    }
   ],
   "source": [
    "# printSchema: It basically returns the schema or the datatype of the dataframe\n",
    "df.printSchema()"
   ]
  },
  {
   "cell_type": "code",
   "execution_count": 8,
   "id": "8d5b2cc2-f4f8-480a-9182-dbf8b6f51d33",
   "metadata": {},
   "outputs": [
    {
     "data": {
      "text/plain": [
       "[('Brand', 'string'),\n",
       " ('Model', 'string'),\n",
       " ('Year', 'int'),\n",
       " ('Engine_Size', 'double'),\n",
       " ('Fuel_Type', 'string'),\n",
       " ('Transmission', 'string'),\n",
       " ('Mileage', 'int'),\n",
       " ('Doors', 'int'),\n",
       " ('Owner_Count', 'int'),\n",
       " ('Price', 'int')]"
      ]
     },
     "execution_count": 8,
     "metadata": {},
     "output_type": "execute_result"
    }
   ],
   "source": [
    "# dtypers: It returns the datatypes of the datafrsame. through a list of tuples.\n",
    "df.dtypes"
   ]
  },
  {
   "cell_type": "code",
   "execution_count": 9,
   "id": "61823b73-67a2-4d2c-a582-d3d3774a0a62",
   "metadata": {},
   "outputs": [
    {
     "name": "stdout",
     "output_type": "stream",
     "text": [
      "== Physical Plan ==\n",
      "FileScan csv [Brand#17,Model#18,Year#19,Engine_Size#20,Fuel_Type#21,Transmission#22,Mileage#23,Doors#24,Owner_Count#25,Price#26] Batched: false, DataFilters: [], Format: CSV, Location: InMemoryFileIndex(1 paths)[file:/D:/codes/pyspark/notebooks/car_price_dataset.csv], PartitionFilters: [], PushedFilters: [], ReadSchema: struct<Brand:string,Model:string,Year:int,Engine_Size:double,Fuel_Type:string,Transmission:string...\n",
      "\n",
      "\n"
     ]
    }
   ],
   "source": [
    "# explain(): It return the overall information of the datatype, type of file etc\n",
    "df.explain()"
   ]
  },
  {
   "cell_type": "code",
   "execution_count": 10,
   "id": "60ab75d4-6b36-4f8a-9c11-2f3d4c2fb967",
   "metadata": {},
   "outputs": [
    {
     "name": "stdout",
     "output_type": "stream",
     "text": [
      "+----------+--------+\n",
      "|     Brand|   Model|\n",
      "+----------+--------+\n",
      "|       Kia|     Rio|\n",
      "| Chevrolet|  Malibu|\n",
      "|  Mercedes|     GLA|\n",
      "|      Audi|      Q5|\n",
      "|Volkswagen|    Golf|\n",
      "|    Toyota|   Camry|\n",
      "|     Honda|   Civic|\n",
      "|       Kia|Sportage|\n",
      "|       Kia|Sportage|\n",
      "|    Toyota|    RAV4|\n",
      "|       BMW|5 Series|\n",
      "|Volkswagen|    Golf|\n",
      "|     Honda|    CR-V|\n",
      "|   Hyundai| Elantra|\n",
      "|Volkswagen|    Golf|\n",
      "|Volkswagen|    Golf|\n",
      "|   Hyundai| Elantra|\n",
      "|Volkswagen|  Tiguan|\n",
      "|       Kia|     Rio|\n",
      "|  Mercedes|     GLA|\n",
      "+----------+--------+\n",
      "only showing top 20 rows\n",
      "\n"
     ]
    }
   ],
   "source": [
    "# select(): takes a list of arguments(columns) and returns columns\n",
    "df.select(['Brand', 'Model']).show()"
   ]
  },
  {
   "cell_type": "markdown",
   "id": "3b9d8b46-31f4-4df3-b24d-984a0fe5e93c",
   "metadata": {},
   "source": [
    "***Basic manipulation of schema***\n",
    "**Schema:**\n",
    "- In PySpark, a schema defines the structure of a DataFrame. It specifies the names and data types of the columns, ensuring data consistency and integrity. Schemas are crucial when creating DataFrames, reading data from files, or performing transformations.\n",
    "- A schema is defined using StructType and StructField. StructType is a collection of StructField objects, where each StructField represents a column and its properties. These properties include the column name, data type, and whether it can contain null values."
   ]
  },
  {
   "cell_type": "code",
   "execution_count": 11,
   "id": "7c7390d3-bd83-4323-ab3b-304c6590e5db",
   "metadata": {},
   "outputs": [
    {
     "data": {
      "text/plain": [
       "StructType([StructField('Brand', StringType(), True), StructField('Model', StringType(), True), StructField('Year', IntegerType(), True), StructField('Engine_Size', FloatType(), True), StructField('Fuel_Type', StringType(), True), StructField('Transmission', StringType(), True), StructField('Mileage', IntegerType(), True), StructField('Doors', IntegerType(), True), StructField('Owner_Count', IntegerType(), True), StructField('Price', IntegerType(), True)])"
      ]
     },
     "execution_count": 11,
     "metadata": {},
     "output_type": "execute_result"
    }
   ],
   "source": [
    "from pyspark.sql.types import StringType, FloatType, StructType, StructField, IntegerType\n",
    "\n",
    "schema = StructType([\n",
    "    StructField('Brand', StringType(), nullable=True),\n",
    "    StructField('Model', StringType(), nullable=True),\n",
    "    StructField('Year', IntegerType(), nullable=True),\n",
    "    StructField('Engine_Size', FloatType(), nullable=True),\n",
    "    StructField('Fuel_Type', StringType(), nullable=True),\n",
    "    StructField('Transmission', StringType(), nullable=True),\n",
    "    StructField('Mileage', IntegerType(), nullable=True),\n",
    "    StructField('Doors', IntegerType(), nullable=True),\n",
    "    StructField('Owner_Count', IntegerType(), nullable=True),\n",
    "    StructField('Price', IntegerType(), nullable=True)\n",
    "])\n",
    "\n",
    "schema"
   ]
  },
  {
   "cell_type": "code",
   "execution_count": 12,
   "id": "6ddff481-0c39-4782-ad24-d294d12b9650",
   "metadata": {},
   "outputs": [],
   "source": [
    "main_df = sc.read.csv(\n",
    "    'car_price_dataset.csv',\n",
    "    header=True,\n",
    "    schema=schema\n",
    ")"
   ]
  },
  {
   "cell_type": "code",
   "execution_count": 13,
   "id": "59f84449-84e0-40b9-a802-cf05ad57bea7",
   "metadata": {},
   "outputs": [
    {
     "name": "stdout",
     "output_type": "stream",
     "text": [
      "+----------+------+----+-----------+---------+--------------+-------+-----+-----------+-----+\n",
      "|     Brand| Model|Year|Engine_Size|Fuel_Type|  Transmission|Mileage|Doors|Owner_Count|Price|\n",
      "+----------+------+----+-----------+---------+--------------+-------+-----+-----------+-----+\n",
      "|       Kia|   Rio|2020|        4.2|   Diesel|        Manual| 289944|    3|          5| 8501|\n",
      "| Chevrolet|Malibu|2012|        2.0|   Hybrid|     Automatic|   5356|    2|          3|12092|\n",
      "|  Mercedes|   GLA|2020|        4.2|   Diesel|     Automatic| 231440|    4|          2|11171|\n",
      "|      Audi|    Q5|2023|        2.0| Electric|        Manual| 160971|    2|          1|11780|\n",
      "|Volkswagen|  Golf|2003|        2.6|   Hybrid|Semi-Automatic| 286618|    3|          3| 2867|\n",
      "+----------+------+----+-----------+---------+--------------+-------+-----+-----------+-----+\n",
      "only showing top 5 rows\n",
      "\n"
     ]
    }
   ],
   "source": [
    "# Showing 5 rows\n",
    "main_df.show(5)"
   ]
  },
  {
   "cell_type": "code",
   "execution_count": 14,
   "id": "347280e9-6805-475b-9e35-6ffa6a2a2f1e",
   "metadata": {},
   "outputs": [
    {
     "name": "stdout",
     "output_type": "stream",
     "text": [
      "+------+--------+----+-----------+---------+------------+-------+-----+-----------+-----+\n",
      "| Brand|   Model|Year|Engine_Size|Fuel_Type|Transmission|Mileage|Doors|Owner_Count|Price|\n",
      "+------+--------+----+-----------+---------+------------+-------+-----+-----------+-----+\n",
      "|Toyota| Corolla|2021|        4.7| Electric|   Automatic|  14924|    5|          3|18301|\n",
      "|  Audi|      A3|2023|        5.0|   Hybrid|   Automatic|  12234|    5|          5|18255|\n",
      "|  Ford|Explorer|2020|        4.8| Electric|   Automatic|  19112|    4|          5|18017|\n",
      "| Honda|  Accord|2022|        4.0| Electric|   Automatic|  14658|    4|          2|17906|\n",
      "| Honda|    CR-V|2023|        4.6|   Hybrid|   Automatic|  10046|    4|          4|17899|\n",
      "+------+--------+----+-----------+---------+------------+-------+-----+-----------+-----+\n",
      "only showing top 5 rows\n",
      "\n"
     ]
    }
   ],
   "source": [
    "# Showing last 5 rows while ordering by price descending\n",
    "# docs:  https://spark.apache.org/docs/latest/api/python/reference/pyspark.sql/api/pyspark.sql.DataFrame.orderBy.html\n",
    "main_df.orderBy(main_df.Price.desc()).show(5)"
   ]
  },
  {
   "cell_type": "code",
   "execution_count": 15,
   "id": "456bb738-4aef-4f7b-8ee4-e364ea0ba9fc",
   "metadata": {},
   "outputs": [
    {
     "name": "stdout",
     "output_type": "stream",
     "text": [
      "root\n",
      " |-- Brand: string (nullable = true)\n",
      " |-- Model: string (nullable = true)\n",
      " |-- Year: integer (nullable = true)\n",
      " |-- Engine_Size: float (nullable = true)\n",
      " |-- Fuel_Type: string (nullable = true)\n",
      " |-- Transmission: string (nullable = true)\n",
      " |-- Mileage: integer (nullable = true)\n",
      " |-- Doors: integer (nullable = true)\n",
      " |-- Owner_Count: integer (nullable = true)\n",
      " |-- Price: integer (nullable = true)\n",
      "\n"
     ]
    }
   ],
   "source": [
    "main_df.printSchema()"
   ]
  },
  {
   "cell_type": "markdown",
   "id": "bb6aa516-b1f7-4e83-b638-f7688a74e4a4",
   "metadata": {},
   "source": [
    "***Case Study***\n",
    "- Whenever I tried to make interfield to StringField in the Schema, then that field became field became string for the Integers.\n",
    "- While Convering a column containing string data to Integer it became Null in that case."
   ]
  },
  {
   "cell_type": "code",
   "execution_count": 16,
   "id": "b7341857-4b15-4d4e-b32b-e79237d50d19",
   "metadata": {},
   "outputs": [],
   "source": [
    "sc.stop()"
   ]
  }
 ],
 "metadata": {
  "kernelspec": {
   "display_name": "Python 3 (ipykernel)",
   "language": "python",
   "name": "python3"
  },
  "language_info": {
   "codemirror_mode": {
    "name": "ipython",
    "version": 3
   },
   "file_extension": ".py",
   "mimetype": "text/x-python",
   "name": "python",
   "nbconvert_exporter": "python",
   "pygments_lexer": "ipython3",
   "version": "3.12.2"
  }
 },
 "nbformat": 4,
 "nbformat_minor": 5
}
