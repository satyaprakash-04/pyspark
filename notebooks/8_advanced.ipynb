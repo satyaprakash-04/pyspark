{
 "cells": [
  {
   "cell_type": "code",
   "execution_count": 1,
   "id": "68011e73-b73e-4d34-ad28-c795b69d08a1",
   "metadata": {},
   "outputs": [
    {
     "data": {
      "text/html": [
       "\n",
       "            <div>\n",
       "                <p><b>SparkSession - in-memory</b></p>\n",
       "                \n",
       "        <div>\n",
       "            <p><b>SparkContext</b></p>\n",
       "\n",
       "            <p><a href=\"http://host.docker.internal:4040\">Spark UI</a></p>\n",
       "\n",
       "            <dl>\n",
       "              <dt>Version</dt>\n",
       "                <dd><code>v3.5.5</code></dd>\n",
       "              <dt>Master</dt>\n",
       "                <dd><code>local[*]</code></dd>\n",
       "              <dt>AppName</dt>\n",
       "                <dd><code>SparkAPP</code></dd>\n",
       "            </dl>\n",
       "        </div>\n",
       "        \n",
       "            </div>\n",
       "        "
      ],
      "text/plain": [
       "<pyspark.sql.session.SparkSession at 0x147efdc89b0>"
      ]
     },
     "execution_count": 1,
     "metadata": {},
     "output_type": "execute_result"
    }
   ],
   "source": [
    "from pyspark.sql import SparkSession\n",
    "spark = SparkSession.builder.appName('SparkAPP').getOrCreate()  \n",
    "# df = spark.sql('''select 'spark' as hello ''')  \n",
    "# df.show()\n",
    "spark.sparkContext.setLogLevel('WARN')\n",
    "spark\n"
   ]
  },
  {
   "cell_type": "code",
   "execution_count": 4,
   "id": "76927e25-da01-4a8c-b424-58119fc7a66c",
   "metadata": {},
   "outputs": [
    {
     "name": "stdout",
     "output_type": "stream",
     "text": [
      "+---+------+--------------------+--------------------+\n",
      "| Id|ref no|                Name|            category|\n",
      "+---+------+--------------------+--------------------+\n",
      "|101|     1|Horses, asses, mu...|       Animals; live|\n",
      "|102|     1|Bovine animals; live|       Animals; live|\n",
      "|103|     1|         Swine; live|       Animals; live|\n",
      "|104|     1|Sheep and goats; ...|       Animals; live|\n",
      "|105|     1|Poultry; live, fo...|       Animals; live|\n",
      "|106|     1|Animals; live, n....|       Animals; live|\n",
      "|201|     2|Meat of bovine an...|Meat and edible m...|\n",
      "|202|     2|Meat of bovine an...|Meat and edible m...|\n",
      "|203|     2|Meat of swine; fr...|Meat and edible m...|\n",
      "|204|     2|Meat of sheep or ...|Meat and edible m...|\n",
      "|205|     2|Meat; of horses, ...|Meat and edible m...|\n",
      "|206|     2|Edible offal of b...|Meat and edible m...|\n",
      "|207|     2|Meat and edible o...|Meat and edible m...|\n",
      "|208|     2|Meat and edible m...|Meat and edible m...|\n",
      "|209|     2|Pig fat, free of ...|Meat and edible m...|\n",
      "|210|     2|Meat and edible m...|Meat and edible m...|\n",
      "|301|     3|          Fish; live|Fish and crustace...|\n",
      "|302|     3|Fish; fresh or ch...|Fish and crustace...|\n",
      "|303|     3|Fish; frozen, exc...|Fish and crustace...|\n",
      "|304|     3|Fish fillets and ...|Fish and crustace...|\n",
      "+---+------+--------------------+--------------------+\n",
      "only showing top 20 rows\n",
      "\n"
     ]
    }
   ],
   "source": [
    "gooddf = spark.read.csv(\"goods_classification.csv\", inferSchema = True, header = True)\n",
    "gooddf.show()"
   ]
  },
  {
   "cell_type": "code",
   "execution_count": 3,
   "id": "2293031e-cb7e-4d44-ac61-826151ba24d7",
   "metadata": {},
   "outputs": [
    {
     "name": "stdout",
     "output_type": "stream",
     "text": [
      "+---+------+--------------------+-------------+\n",
      "| Id|ref no|                Name|     category|\n",
      "+---+------+--------------------+-------------+\n",
      "|101|     1|Horses, asses, mu...|Animals; live|\n",
      "|102|     1|Bovine animals; live|Animals; live|\n",
      "|103|     1|         Swine; live|Animals; live|\n",
      "|104|     1|Sheep and goats; ...|Animals; live|\n",
      "|105|     1|Poultry; live, fo...|Animals; live|\n",
      "|106|     1|Animals; live, n....|Animals; live|\n",
      "+---+------+--------------------+-------------+\n",
      "\n"
     ]
    }
   ],
   "source": [
    "gooddf.filter(gooddf['ref no']==1).show()"
   ]
  },
  {
   "cell_type": "code",
   "execution_count": 4,
   "id": "e66aa002-2095-4d9b-b7bd-6a2d86ca8840",
   "metadata": {},
   "outputs": [
    {
     "name": "stdout",
     "output_type": "stream",
     "text": [
      "+------+-----+\n",
      "|ref no|count|\n",
      "+------+-----+\n",
      "|     7|   14|\n",
      "|    51|   13|\n",
      "|    15|   21|\n",
      "|    54|    8|\n",
      "|    11|    9|\n",
      "|    29|   42|\n",
      "|    69|   14|\n",
      "|    42|    6|\n",
      "|    73|   26|\n",
      "|    87|   16|\n",
      "|    64|    6|\n",
      "|     3|    8|\n",
      "|    30|    6|\n",
      "|    34|    7|\n",
      "|    59|   11|\n",
      "|     8|   14|\n",
      "|    22|    9|\n",
      "|    28|   53|\n",
      "|    85|   48|\n",
      "|    16|    5|\n",
      "+------+-----+\n",
      "only showing top 20 rows\n",
      "\n"
     ]
    }
   ],
   "source": [
    "gooddf.groupBy('ref no').count().show()"
   ]
  },
  {
   "cell_type": "code",
   "execution_count": 5,
   "id": "75e48fe1-a196-4d3c-bc6c-c588a752e687",
   "metadata": {},
   "outputs": [
    {
     "name": "stdout",
     "output_type": "stream",
     "text": [
      "100\n"
     ]
    }
   ],
   "source": [
    "print(gooddf.groupBy('ref no').count().count())"
   ]
  },
  {
   "cell_type": "code",
   "execution_count": 6,
   "id": "547db135-40d2-44f9-b217-909c71ded4d3",
   "metadata": {},
   "outputs": [
    {
     "data": {
      "text/plain": [
       "1268"
      ]
     },
     "execution_count": 6,
     "metadata": {},
     "output_type": "execute_result"
    }
   ],
   "source": [
    "gooddf.count()"
   ]
  },
  {
   "cell_type": "code",
   "execution_count": 7,
   "id": "270e9de1-fe20-4eba-9c3b-96b66b88c71a",
   "metadata": {},
   "outputs": [
    {
     "name": "stdout",
     "output_type": "stream",
     "text": [
      "root\n",
      " |-- Id: integer (nullable = true)\n",
      " |-- ref no: string (nullable = true)\n",
      " |-- Name: string (nullable = true)\n",
      " |-- category: string (nullable = true)\n",
      "\n"
     ]
    }
   ],
   "source": [
    "gooddf.printSchema()"
   ]
  },
  {
   "cell_type": "code",
   "execution_count": 8,
   "id": "89c500a0-9682-4edc-989a-7ff69c99ea53",
   "metadata": {},
   "outputs": [],
   "source": [
    "df = spark.sql('''select 'spark' as hello ''') "
   ]
  },
  {
   "cell_type": "code",
   "execution_count": 9,
   "id": "3c0b4c7b-a532-4704-8eb1-2a5bfcff82e4",
   "metadata": {},
   "outputs": [
    {
     "data": {
      "text/plain": [
       "DataFrame[hello: string]"
      ]
     },
     "execution_count": 9,
     "metadata": {},
     "output_type": "execute_result"
    }
   ],
   "source": [
    "df"
   ]
  },
  {
   "cell_type": "code",
   "execution_count": 10,
   "id": "3e3d22d1-afbe-4a6f-9223-88952f6d809d",
   "metadata": {},
   "outputs": [
    {
     "name": "stdout",
     "output_type": "stream",
     "text": [
      "+-----+\n",
      "|hello|\n",
      "+-----+\n",
      "|spark|\n",
      "+-----+\n",
      "\n"
     ]
    }
   ],
   "source": [
    "df.show()"
   ]
  },
  {
   "cell_type": "code",
   "execution_count": 11,
   "id": "9ce02387-0cc9-4b59-b31d-0855dd371301",
   "metadata": {},
   "outputs": [
    {
     "name": "stdout",
     "output_type": "stream",
     "text": [
      "+--------------------+------+\n",
      "|            category|ref no|\n",
      "+--------------------+------+\n",
      "|Metals; n.e.c., c...|    81|\n",
      "|Zinc and articles...|    79|\n",
      "|Zinc and articles...|    79|\n",
      "|Zinc and articles...|    79|\n",
      "|Zinc and articles...|    79|\n",
      "|Inorganic chemica...|    28|\n",
      "|Zinc and articles...|    79|\n",
      "|Zinc and articles...|    79|\n",
      "|Zinc and articles...|    79|\n",
      "|  Ores, slag and ash|    26|\n",
      "|Miscellaneous edi...|    21|\n",
      "|Wadding, felt and...|    56|\n",
      "|                Silk|    50|\n",
      "|Wool, fine or coa...|    51|\n",
      "|Vegetable textile...|    53|\n",
      "|Vegetable textile...|    53|\n",
      "|Wool, fine or coa...|    51|\n",
      "|Wool, fine or coa...|    51|\n",
      "|Wool, fine or coa...|    51|\n",
      "|Wool, fine or coa...|    51|\n",
      "+--------------------+------+\n",
      "only showing top 20 rows\n",
      "\n"
     ]
    }
   ],
   "source": [
    "gooddf.select(['category', 'ref no']).orderBy(gooddf.Name.desc()).show()"
   ]
  },
  {
   "cell_type": "code",
   "execution_count": 12,
   "id": "e25f41ef-9984-4784-b242-456e88ff2bac",
   "metadata": {},
   "outputs": [
    {
     "data": {
      "text/plain": [
       "MapPartitionsRDD[53] at javaToPython at NativeMethodAccessorImpl.java:0"
      ]
     },
     "execution_count": 12,
     "metadata": {},
     "output_type": "execute_result"
    }
   ],
   "source": [
    "gooddf.rdd"
   ]
  },
  {
   "cell_type": "code",
   "execution_count": 13,
   "id": "9ccdcb22-9809-4aac-b2b6-b85b3a5a4a78",
   "metadata": {},
   "outputs": [
    {
     "name": "stdout",
     "output_type": "stream",
     "text": [
      "+----+------+--------------------+--------------------+\n",
      "|  Id|ref no|                Name|            category|\n",
      "+----+------+--------------------+--------------------+\n",
      "| 101|     1|Horses, asses, mu...|       Animals; live|\n",
      "| 205|     2|Meat; of horses, ...|Meat and edible m...|\n",
      "| 206|     2|Edible offal of b...|Meat and edible m...|\n",
      "| 503|     5|Horsehair and hor...|Animal originated...|\n",
      "|5110|    51|Yarn of coarse an...|Wool, fine or coa...|\n",
      "|5113|    51|Woven fabrics of ...|Wool, fine or coa...|\n",
      "|5606|    56|Yarn and strip an...|Wadding, felt and...|\n",
      "+----+------+--------------------+--------------------+\n",
      "\n"
     ]
    }
   ],
   "source": [
    "temp_table = gooddf.createOrReplaceTempView('goods_classification')\n",
    "result = spark.sql('select * from goods_classification where name ilike \\'%horse%\\'')\n",
    "result.show()"
   ]
  },
  {
   "cell_type": "code",
   "execution_count": 14,
   "id": "f32c1231-deba-4771-b2c8-b55eebff92b4",
   "metadata": {},
   "outputs": [
    {
     "name": "stderr",
     "output_type": "stream",
     "text": [
      "                                                                                \r"
     ]
    }
   ],
   "source": [
    "gooddf.write.mode('overwrite').saveAsTable('goods_classification')"
   ]
  },
  {
   "cell_type": "code",
   "execution_count": 15,
   "id": "3670fa7c-e83f-4996-919e-fd78acd9b374",
   "metadata": {},
   "outputs": [],
   "source": [
    "permanent_result = spark.sql('select * from goods_classification order by Id asc')"
   ]
  },
  {
   "cell_type": "code",
   "execution_count": 16,
   "id": "ccce583f-9508-4577-bfd8-2623c87c9667",
   "metadata": {},
   "outputs": [
    {
     "name": "stdout",
     "output_type": "stream",
     "text": [
      "+----+------+--------------------+--------------------+\n",
      "|  Id|ref no|                Name|            category|\n",
      "+----+------+--------------------+--------------------+\n",
      "|NULL|    XX|                NULL|         Total goods|\n",
      "|NULL|     0|                NULL|Total goods - cou...|\n",
      "| 101|     1|Horses, asses, mu...|       Animals; live|\n",
      "| 102|     1|Bovine animals; live|       Animals; live|\n",
      "| 103|     1|         Swine; live|       Animals; live|\n",
      "| 104|     1|Sheep and goats; ...|       Animals; live|\n",
      "| 105|     1|Poultry; live, fo...|       Animals; live|\n",
      "| 106|     1|Animals; live, n....|       Animals; live|\n",
      "| 201|     2|Meat of bovine an...|Meat and edible m...|\n",
      "| 202|     2|Meat of bovine an...|Meat and edible m...|\n",
      "| 203|     2|Meat of swine; fr...|Meat and edible m...|\n",
      "| 204|     2|Meat of sheep or ...|Meat and edible m...|\n",
      "| 205|     2|Meat; of horses, ...|Meat and edible m...|\n",
      "| 206|     2|Edible offal of b...|Meat and edible m...|\n",
      "| 207|     2|Meat and edible o...|Meat and edible m...|\n",
      "| 208|     2|Meat and edible m...|Meat and edible m...|\n",
      "| 209|     2|Pig fat, free of ...|Meat and edible m...|\n",
      "| 210|     2|Meat and edible m...|Meat and edible m...|\n",
      "| 301|     3|          Fish; live|Fish and crustace...|\n",
      "| 302|     3|Fish; fresh or ch...|Fish and crustace...|\n",
      "+----+------+--------------------+--------------------+\n",
      "only showing top 20 rows\n",
      "\n"
     ]
    }
   ],
   "source": [
    "permanent_result.show()"
   ]
  },
  {
   "cell_type": "code",
   "execution_count": 17,
   "id": "cf8b673d-1d40-4481-aab0-0107b9f29a18",
   "metadata": {},
   "outputs": [],
   "source": [
    "see_tables = spark.sql('show tables;')"
   ]
  },
  {
   "cell_type": "code",
   "execution_count": 18,
   "id": "ccd00e3f-e5aa-4bde-b360-d54a5e243f2c",
   "metadata": {},
   "outputs": [
    {
     "name": "stdout",
     "output_type": "stream",
     "text": [
      "+---------+--------------------+-----------+\n",
      "|namespace|           tableName|isTemporary|\n",
      "+---------+--------------------+-----------+\n",
      "|  default|goods_classification|      false|\n",
      "|         |goods_classification|       true|\n",
      "+---------+--------------------+-----------+\n",
      "\n"
     ]
    }
   ],
   "source": [
    "see_tables.show()"
   ]
  },
  {
   "cell_type": "code",
   "execution_count": 19,
   "id": "755e9a1f-1d75-4b38-ac19-8d8e8dd8f62a",
   "metadata": {},
   "outputs": [],
   "source": [
    "# Creating table 2\n",
    "gooddf.write.mode('overwrite').saveAsTable('goods_classification_2')"
   ]
  },
  {
   "cell_type": "code",
   "execution_count": 20,
   "id": "02d8dd23-f9a3-4a94-80f8-994c681078e8",
   "metadata": {},
   "outputs": [
    {
     "name": "stdout",
     "output_type": "stream",
     "text": [
      "+---+------+--------------------+--------------------+\n",
      "| Id|ref no|                Name|            category|\n",
      "+---+------+--------------------+--------------------+\n",
      "|101|     1|Horses, asses, mu...|       Animals; live|\n",
      "|102|     1|Bovine animals; live|       Animals; live|\n",
      "|103|     1|         Swine; live|       Animals; live|\n",
      "|104|     1|Sheep and goats; ...|       Animals; live|\n",
      "|105|     1|Poultry; live, fo...|       Animals; live|\n",
      "|106|     1|Animals; live, n....|       Animals; live|\n",
      "|201|     2|Meat of bovine an...|Meat and edible m...|\n",
      "|202|     2|Meat of bovine an...|Meat and edible m...|\n",
      "|203|     2|Meat of swine; fr...|Meat and edible m...|\n",
      "|204|     2|Meat of sheep or ...|Meat and edible m...|\n",
      "|205|     2|Meat; of horses, ...|Meat and edible m...|\n",
      "|206|     2|Edible offal of b...|Meat and edible m...|\n",
      "|207|     2|Meat and edible o...|Meat and edible m...|\n",
      "|208|     2|Meat and edible m...|Meat and edible m...|\n",
      "|209|     2|Pig fat, free of ...|Meat and edible m...|\n",
      "|210|     2|Meat and edible m...|Meat and edible m...|\n",
      "|301|     3|          Fish; live|Fish and crustace...|\n",
      "|302|     3|Fish; fresh or ch...|Fish and crustace...|\n",
      "|303|     3|Fish; frozen, exc...|Fish and crustace...|\n",
      "|304|     3|Fish fillets and ...|Fish and crustace...|\n",
      "+---+------+--------------------+--------------------+\n",
      "only showing top 20 rows\n",
      "\n"
     ]
    }
   ],
   "source": [
    "t_2_data = spark.sql('select * from goods_classification_2')\n",
    "t_2_data.show()"
   ]
  },
  {
   "cell_type": "code",
   "execution_count": 21,
   "id": "d9c54f56-5012-4cf2-9a0c-5336b174e6d9",
   "metadata": {},
   "outputs": [
    {
     "name": "stdout",
     "output_type": "stream",
     "text": [
      "+---+------+--------------------+--------------------+---+------+--------------------+--------------------+\n",
      "| Id|ref no|                Name|            category| Id|ref no|                Name|            category|\n",
      "+---+------+--------------------+--------------------+---+------+--------------------+--------------------+\n",
      "|101|     1|Horses, asses, mu...|       Animals; live|101|     1|Horses, asses, mu...|       Animals; live|\n",
      "|102|     1|Bovine animals; live|       Animals; live|102|     1|Bovine animals; live|       Animals; live|\n",
      "|103|     1|         Swine; live|       Animals; live|103|     1|         Swine; live|       Animals; live|\n",
      "|104|     1|Sheep and goats; ...|       Animals; live|104|     1|Sheep and goats; ...|       Animals; live|\n",
      "|105|     1|Poultry; live, fo...|       Animals; live|105|     1|Poultry; live, fo...|       Animals; live|\n",
      "|106|     1|Animals; live, n....|       Animals; live|106|     1|Animals; live, n....|       Animals; live|\n",
      "|201|     2|Meat of bovine an...|Meat and edible m...|201|     2|Meat of bovine an...|Meat and edible m...|\n",
      "|202|     2|Meat of bovine an...|Meat and edible m...|202|     2|Meat of bovine an...|Meat and edible m...|\n",
      "|203|     2|Meat of swine; fr...|Meat and edible m...|203|     2|Meat of swine; fr...|Meat and edible m...|\n",
      "|204|     2|Meat of sheep or ...|Meat and edible m...|204|     2|Meat of sheep or ...|Meat and edible m...|\n",
      "|205|     2|Meat; of horses, ...|Meat and edible m...|205|     2|Meat; of horses, ...|Meat and edible m...|\n",
      "|206|     2|Edible offal of b...|Meat and edible m...|206|     2|Edible offal of b...|Meat and edible m...|\n",
      "|207|     2|Meat and edible o...|Meat and edible m...|207|     2|Meat and edible o...|Meat and edible m...|\n",
      "|208|     2|Meat and edible m...|Meat and edible m...|208|     2|Meat and edible m...|Meat and edible m...|\n",
      "|209|     2|Pig fat, free of ...|Meat and edible m...|209|     2|Pig fat, free of ...|Meat and edible m...|\n",
      "|210|     2|Meat and edible m...|Meat and edible m...|210|     2|Meat and edible m...|Meat and edible m...|\n",
      "|301|     3|          Fish; live|Fish and crustace...|301|     3|          Fish; live|Fish and crustace...|\n",
      "|302|     3|Fish; fresh or ch...|Fish and crustace...|302|     3|Fish; fresh or ch...|Fish and crustace...|\n",
      "|303|     3|Fish; frozen, exc...|Fish and crustace...|303|     3|Fish; frozen, exc...|Fish and crustace...|\n",
      "|304|     3|Fish fillets and ...|Fish and crustace...|304|     3|Fish fillets and ...|Fish and crustace...|\n",
      "+---+------+--------------------+--------------------+---+------+--------------------+--------------------+\n",
      "only showing top 20 rows\n",
      "\n"
     ]
    }
   ],
   "source": [
    "joined_data = spark.sql('select * from goods_classification gg inner join goods_classification_2 gg2 on gg.Id=gg2.Id')\n",
    "joined_data.show()"
   ]
  },
  {
   "cell_type": "code",
   "execution_count": 22,
   "id": "59901586-df2a-4e93-9089-daa07e0f4e6b",
   "metadata": {},
   "outputs": [
    {
     "name": "stdout",
     "output_type": "stream",
     "text": [
      "+---+----------+----------+------+------+---+\n",
      "| Id|       Car|     Model|Volume|Weight|CO2|\n",
      "+---+----------+----------+------+------+---+\n",
      "|  1|    Toyoty|      Aygo|  1000|   790| 99|\n",
      "|  2|Mitsubishi|Space Star|  1200|  1160| 95|\n",
      "|  3|     Skoda|    Citigo|  1000|   929| 95|\n",
      "|  4|      Fiat|       500|   900|   865| 90|\n",
      "|  5|      Mini|    Cooper|  1500|  1140|105|\n",
      "+---+----------+----------+------+------+---+\n",
      "only showing top 5 rows\n",
      "\n"
     ]
    }
   ],
   "source": [
    "car_dataset = spark.read.csv('data.csv', inferSchema=True, header=True)\n",
    "car_dataset.show(5)"
   ]
  },
  {
   "cell_type": "code",
   "execution_count": 23,
   "id": "cda99086-f8bd-4aea-96db-48452dc90d6e",
   "metadata": {
    "scrolled": true
   },
   "outputs": [
    {
     "name": "stdout",
     "output_type": "stream",
     "text": [
      "root\n",
      " |-- Id: integer (nullable = true)\n",
      " |-- Car: string (nullable = true)\n",
      " |-- Model: string (nullable = true)\n",
      " |-- Volume: integer (nullable = true)\n",
      " |-- Weight: integer (nullable = true)\n",
      " |-- CO2: integer (nullable = true)\n",
      "\n"
     ]
    }
   ],
   "source": [
    "car_dataset.printSchema()"
   ]
  },
  {
   "cell_type": "code",
   "execution_count": 24,
   "id": "78a1deeb-0006-41f2-944f-6835c93a4a88",
   "metadata": {},
   "outputs": [],
   "source": [
    "# saving the data somewhere\n",
    "car_dataset.write.mode('overwrite').saveAsTable('car_dataset')"
   ]
  },
  {
   "cell_type": "code",
   "execution_count": 25,
   "id": "d2cc1d7b-f6b0-4920-9c79-5ad788f31acc",
   "metadata": {},
   "outputs": [],
   "source": [
    "car_tbl_data = spark.sql('select * from car_dataset;')"
   ]
  },
  {
   "cell_type": "code",
   "execution_count": 26,
   "id": "25ba3a77-594e-48a5-abce-29c838899b58",
   "metadata": {},
   "outputs": [
    {
     "name": "stdout",
     "output_type": "stream",
     "text": [
      "+---+----------+----------+------+------+---+\n",
      "| Id|       Car|     Model|Volume|Weight|CO2|\n",
      "+---+----------+----------+------+------+---+\n",
      "|  1|    Toyoty|      Aygo|  1000|   790| 99|\n",
      "|  2|Mitsubishi|Space Star|  1200|  1160| 95|\n",
      "|  3|     Skoda|    Citigo|  1000|   929| 95|\n",
      "|  4|      Fiat|       500|   900|   865| 90|\n",
      "|  5|      Mini|    Cooper|  1500|  1140|105|\n",
      "|  6|        VW|       Up!|  1000|   929|105|\n",
      "|  7|     Skoda|     Fabia|  1400|  1109| 90|\n",
      "|  8|  Mercedes|   A-Class|  1500|  1365| 92|\n",
      "|  9|      Ford|    Fiesta|  1500|  1112| 98|\n",
      "| 10|      Audi|        A1|  1600|  1150| 99|\n",
      "| 11|   Hyundai|       I20|  1100|   980| 99|\n",
      "| 12|    Suzuki|     Swift|  1300|   990|101|\n",
      "| 13|      Ford|    Fiesta|  1000|  1112| 99|\n",
      "| 14|     Honda|     Civic|  1600|  1252| 94|\n",
      "| 15|    Hundai|       I30|  1600|  1326| 97|\n",
      "| 16|      Opel|     Astra|  1600|  1330| 97|\n",
      "| 17|       BMW|         1|  1600|  1365| 99|\n",
      "| 18|     Mazda|         3|  2200|  1280|104|\n",
      "| 19|     Skoda|     Rapid|  1600|  1119|104|\n",
      "| 20|      Ford|     Focus|  2000|  1328|105|\n",
      "+---+----------+----------+------+------+---+\n",
      "only showing top 20 rows\n",
      "\n"
     ]
    }
   ],
   "source": [
    "car_tbl_data.show()"
   ]
  },
  {
   "cell_type": "code",
   "execution_count": 27,
   "id": "7163f2a5-5408-491b-a356-c14d55da823e",
   "metadata": {},
   "outputs": [
    {
     "name": "stdout",
     "output_type": "stream",
     "text": [
      "+--------+-----+--------------+\n",
      "|     Car|count|average_weight|\n",
      "+--------+-----+--------------+\n",
      "|   Volvo|    3|       1561.33|\n",
      "|    Audi|    3|        1455.0|\n",
      "|Mercedes|    5|        1439.0|\n",
      "|     BMW|    3|       1486.67|\n",
      "|    Opel|    3|       1387.67|\n",
      "|   Skoda|    4|        1143.0|\n",
      "|    Ford|    5|        1274.2|\n",
      "+--------+-----+--------------+\n",
      "\n"
     ]
    }
   ],
   "source": [
    "car_group = spark.sql('select Car, count(*) as count, ROUND(AVG(Weight), 2) as average_weight from car_dataset group by Car having AVG(Weight) > 1100 and count(*)>1;')\n",
    "car_group.show()"
   ]
  },
  {
   "cell_type": "code",
   "execution_count": 28,
   "id": "e75a1016-5d20-4bc3-82b2-050d3e566464",
   "metadata": {},
   "outputs": [
    {
     "data": {
      "text/plain": [
       "[Row(Id=1, Car='Toyoty', Model='Aygo', Volume=1000, Weight=790, CO2=99),\n",
       " Row(Id=2, Car='Mitsubishi', Model='Space Star', Volume=1200, Weight=1160, CO2=95),\n",
       " Row(Id=3, Car='Skoda', Model='Citigo', Volume=1000, Weight=929, CO2=95),\n",
       " Row(Id=4, Car='Fiat', Model='500', Volume=900, Weight=865, CO2=90),\n",
       " Row(Id=5, Car='Mini', Model='Cooper', Volume=1500, Weight=1140, CO2=105)]"
      ]
     },
     "execution_count": 28,
     "metadata": {},
     "output_type": "execute_result"
    }
   ],
   "source": [
    "car_dataset.take(5)"
   ]
  },
  {
   "cell_type": "code",
   "execution_count": 29,
   "id": "51572c06-d008-4b11-a5a1-bbc0d8490e60",
   "metadata": {
    "scrolled": true
   },
   "outputs": [
    {
     "name": "stdout",
     "output_type": "stream",
     "text": [
      "+---+----------+----------+------+------+---+\n",
      "| Id|       Car|     Model|Volume|Weight|CO2|\n",
      "+---+----------+----------+------+------+---+\n",
      "|  2|Mitsubishi|Space Star|  1200|  1160| 95|\n",
      "+---+----------+----------+------+------+---+\n",
      "\n"
     ]
    }
   ],
   "source": [
    "car_dataset.filter(car_dataset.Car == 'Mitsubishi').show()"
   ]
  },
  {
   "cell_type": "code",
   "execution_count": 30,
   "id": "f3aba7d4-c316-4665-937d-2e485fa3e9ab",
   "metadata": {},
   "outputs": [
    {
     "name": "stdout",
     "output_type": "stream",
     "text": [
      "+---+----------+----------+------+------+---+\n",
      "| Id|       Car|     Model|Volume|Weight|CO2|\n",
      "+---+----------+----------+------+------+---+\n",
      "|  1|    Toyoty|      Aygo|  1000|   790| 99|\n",
      "|  2|Mitsubishi|Space Star|  1200|  1160| 95|\n",
      "|  3|     Skoda|    Citigo|  1000|   929| 95|\n",
      "|  4|      Fiat|       500|   900|   865| 90|\n",
      "|  5|      Mini|    Cooper|  1500|  1140|105|\n",
      "+---+----------+----------+------+------+---+\n",
      "only showing top 5 rows\n",
      "\n"
     ]
    }
   ],
   "source": [
    "car_dataset.show(5)"
   ]
  },
  {
   "cell_type": "code",
   "execution_count": 31,
   "id": "7a6007bd-2fb5-495c-b32c-262517524496",
   "metadata": {},
   "outputs": [
    {
     "data": {
      "text/plain": [
       "23"
      ]
     },
     "execution_count": 31,
     "metadata": {},
     "output_type": "execute_result"
    }
   ],
   "source": [
    "car_dataset.filter(car_dataset.Weight > 1160).count()"
   ]
  },
  {
   "cell_type": "code",
   "execution_count": 32,
   "id": "fcc65075-2e31-4cdb-91e3-5b9d213a8a77",
   "metadata": {},
   "outputs": [],
   "source": [
    "df_sql = spark.sql('select * from car_dataset')"
   ]
  },
  {
   "cell_type": "code",
   "execution_count": 33,
   "id": "5a215f30-ce14-4fc4-b329-c90342751d33",
   "metadata": {},
   "outputs": [
    {
     "name": "stdout",
     "output_type": "stream",
     "text": [
      "+---+----------+----------+------+------+---+\n",
      "| Id|       Car|     Model|Volume|Weight|CO2|\n",
      "+---+----------+----------+------+------+---+\n",
      "|  1|    Toyoty|      Aygo|  1000|   790| 99|\n",
      "|  2|Mitsubishi|Space Star|  1200|  1160| 95|\n",
      "|  3|     Skoda|    Citigo|  1000|   929| 95|\n",
      "|  4|      Fiat|       500|   900|   865| 90|\n",
      "|  5|      Mini|    Cooper|  1500|  1140|105|\n",
      "|  6|        VW|       Up!|  1000|   929|105|\n",
      "|  7|     Skoda|     Fabia|  1400|  1109| 90|\n",
      "|  8|  Mercedes|   A-Class|  1500|  1365| 92|\n",
      "|  9|      Ford|    Fiesta|  1500|  1112| 98|\n",
      "| 10|      Audi|        A1|  1600|  1150| 99|\n",
      "| 11|   Hyundai|       I20|  1100|   980| 99|\n",
      "| 12|    Suzuki|     Swift|  1300|   990|101|\n",
      "| 13|      Ford|    Fiesta|  1000|  1112| 99|\n",
      "| 14|     Honda|     Civic|  1600|  1252| 94|\n",
      "| 15|    Hundai|       I30|  1600|  1326| 97|\n",
      "| 16|      Opel|     Astra|  1600|  1330| 97|\n",
      "| 17|       BMW|         1|  1600|  1365| 99|\n",
      "| 18|     Mazda|         3|  2200|  1280|104|\n",
      "| 19|     Skoda|     Rapid|  1600|  1119|104|\n",
      "| 20|      Ford|     Focus|  2000|  1328|105|\n",
      "+---+----------+----------+------+------+---+\n",
      "only showing top 20 rows\n",
      "\n"
     ]
    }
   ],
   "source": [
    "df_sql.show()"
   ]
  },
  {
   "cell_type": "code",
   "execution_count": 34,
   "id": "5d1e16db-207a-4754-aebb-792e7f765344",
   "metadata": {},
   "outputs": [
    {
     "name": "stdout",
     "output_type": "stream",
     "text": [
      "+---+----------+----------+------+------+---+\n",
      "| Id|       Car|     Model|Volume|Weight|CO2|\n",
      "+---+----------+----------+------+------+---+\n",
      "|  1|    Toyoty|      Aygo|  1000|   790| 99|\n",
      "|  2|Mitsubishi|Space Star|  1200|  1160| 95|\n",
      "|  3|     Skoda|    Citigo|  1000|   929| 95|\n",
      "|  4|      Fiat|       500|   900|   865| 90|\n",
      "|  5|      Mini|    Cooper|  1500|  1140|105|\n",
      "|  6|        VW|       Up!|  1000|   929|105|\n",
      "|  7|     Skoda|     Fabia|  1400|  1109| 90|\n",
      "|  8|  Mercedes|   A-Class|  1500|  1365| 92|\n",
      "|  9|      Ford|    Fiesta|  1500|  1112| 98|\n",
      "| 10|      Audi|        A1|  1600|  1150| 99|\n",
      "| 11|   Hyundai|       I20|  1100|   980| 99|\n",
      "| 12|    Suzuki|     Swift|  1300|   990|101|\n",
      "| 13|      Ford|    Fiesta|  1000|  1112| 99|\n",
      "| 14|     Honda|     Civic|  1600|  1252| 94|\n",
      "| 15|    Hundai|       I30|  1600|  1326| 97|\n",
      "| 16|      Opel|     Astra|  1600|  1330| 97|\n",
      "| 17|       BMW|         1|  1600|  1365| 99|\n",
      "| 18|     Mazda|         3|  2200|  1280|104|\n",
      "| 19|     Skoda|     Rapid|  1600|  1119|104|\n",
      "| 20|      Ford|     Focus|  2000|  1328|105|\n",
      "+---+----------+----------+------+------+---+\n",
      "only showing top 20 rows\n",
      "\n"
     ]
    }
   ],
   "source": [
    "# saving data in text file from a RDD\n",
    "car_dataset.show()"
   ]
  },
  {
   "cell_type": "code",
   "execution_count": 36,
   "id": "c9bec59d-4b30-4298-adf8-2a2da350838a",
   "metadata": {},
   "outputs": [
    {
     "name": "stderr",
     "output_type": "stream",
     "text": [
      "                                                                                \r"
     ]
    }
   ],
   "source": [
    "# Saving dataset in text file\n",
    "car_dataset.rdd.saveAsTextFile(\"classification\")\n",
    "car_dataset.rdd.map(lambda row: \",\".join(str(x) for x in row)).saveAsTextFile(\"classification2\")"
   ]
  },
  {
   "cell_type": "code",
   "execution_count": 37,
   "id": "a194458e-98db-4111-aa30-b4f85d13ee9f",
   "metadata": {},
   "outputs": [
    {
     "name": "stdout",
     "output_type": "stream",
     "text": [
      "+--------------------+\n",
      "|               value|\n",
      "+--------------------+\n",
      "|Row(Id=1, Car='To...|\n",
      "|Row(Id=2, Car='Mi...|\n",
      "|Row(Id=3, Car='Sk...|\n",
      "|Row(Id=4, Car='Fi...|\n",
      "|Row(Id=5, Car='Mi...|\n",
      "|Row(Id=6, Car='VW...|\n",
      "|Row(Id=7, Car='Sk...|\n",
      "|Row(Id=8, Car='Me...|\n",
      "|Row(Id=9, Car='Fo...|\n",
      "|Row(Id=10, Car='A...|\n",
      "|Row(Id=11, Car='H...|\n",
      "|Row(Id=12, Car='S...|\n",
      "|Row(Id=13, Car='F...|\n",
      "|Row(Id=14, Car='H...|\n",
      "|Row(Id=15, Car='H...|\n",
      "|Row(Id=16, Car='O...|\n",
      "|Row(Id=17, Car='B...|\n",
      "|Row(Id=18, Car='M...|\n",
      "|Row(Id=19, Car='S...|\n",
      "|Row(Id=20, Car='F...|\n",
      "+--------------------+\n",
      "only showing top 20 rows\n",
      "\n"
     ]
    }
   ],
   "source": [
    "retr_df = spark.read.text('classification')\n",
    "retr_df.show()"
   ]
  },
  {
   "cell_type": "code",
   "execution_count": 38,
   "id": "a83ff277-64e1-41bc-ba92-562d737e01a2",
   "metadata": {},
   "outputs": [
    {
     "name": "stdout",
     "output_type": "stream",
     "text": [
      "+---+----------+----------+------+------+---+\n",
      "| Id|       Car|     Model|Volume|Weight|CO2|\n",
      "+---+----------+----------+------+------+---+\n",
      "|  1|    Toyoty|      Aygo|  1000|   790| 99|\n",
      "|  2|Mitsubishi|Space Star|  1200|  1160| 95|\n",
      "|  3|     Skoda|    Citigo|  1000|   929| 95|\n",
      "+---+----------+----------+------+------+---+\n",
      "only showing top 3 rows\n",
      "\n"
     ]
    }
   ],
   "source": [
    "car_dataset.show(3)"
   ]
  },
  {
   "cell_type": "code",
   "execution_count": 39,
   "id": "40d1f191-8fce-4470-a2f5-3d03c0f805f9",
   "metadata": {},
   "outputs": [
    {
     "name": "stdout",
     "output_type": "stream",
     "text": [
      "+---------+-------------+------------------+\n",
      "|volumeSum|minimumWeight|    avergeCO2Level|\n",
      "+---------+-------------+------------------+\n",
      "|    58000|          790|102.02777777777777|\n",
      "+---------+-------------+------------------+\n",
      "\n"
     ]
    }
   ],
   "source": [
    "# Aggregations using Pyspark\n",
    "from pyspark.sql.functions import sum, min, max, avg\n",
    "car_dataset.select(\n",
    "    sum('Volume').alias('volumeSum'),\n",
    "    min('Weight').alias('minimumWeight'),\n",
    "    avg('CO2').alias('avergeCO2Level')\n",
    ").show()"
   ]
  },
  {
   "cell_type": "code",
   "execution_count": null,
   "id": "4c7fc97c-dc3d-45f7-9f94-f7fd9019ec15",
   "metadata": {
    "jupyter": {
     "source_hidden": true
    }
   },
   "outputs": [],
   "source": [
    "# Group by usecases using pyspark\n",
    "car_dataset.groupBy('Car').agg(\n",
    "    sum('Volume').alias('VolumeByCarSUM'),\n",
    "    avg('Weight').alias('AverageWeight'),\n",
    "    max('CO2').alias('MaxCo2')\n",
    ").show()"
   ]
  },
  {
   "cell_type": "code",
   "execution_count": 40,
   "id": "226c9f78-6a17-487a-bacd-20fc809bd3b8",
   "metadata": {
    "collapsed": true,
    "jupyter": {
     "outputs_hidden": true,
     "source_hidden": true
    }
   },
   "outputs": [
    {
     "name": "stdout",
     "output_type": "stream",
     "text": [
      "+----------+------------------+---------+------+\n",
      "|       Car|         AvgVolume|MaxWeight|MinCO2|\n",
      "+----------+------------------+---------+------+\n",
      "|Mitsubishi|            1200.0|     1160|    95|\n",
      "|      Mini|            1500.0|     1140|   105|\n",
      "|     Volvo|1866.6666666666667|     1746|    99|\n",
      "|     Honda|            1600.0|     1252|    94|\n",
      "|      Audi|1866.6666666666667|     1725|    99|\n",
      "|  Mercedes|            1940.0|     1605|    92|\n",
      "|       BMW|1733.3333333333333|     1705|    99|\n",
      "|    Suzuki|            1300.0|      990|   101|\n",
      "|    Hundai|            1600.0|     1326|    97|\n",
      "|      Opel|1733.3333333333333|     1428|    97|\n",
      "|     Skoda|            1400.0|     1415|    90|\n",
      "|     Mazda|            2200.0|     1280|   104|\n",
      "|      Ford|            1540.0|     1584|    94|\n",
      "+----------+------------------+---------+------+\n",
      "\n"
     ]
    }
   ],
   "source": [
    "# Group By with condition\n",
    "car_dataset.groupBy('Car').agg(\n",
    "    avg('Volume').alias('AvgVolume'),\n",
    "    max('Weight').alias('MaxWeight'),\n",
    "    min('CO2').alias('MinCO2')\n",
    ").filter('`AvgVolume` > 1100').show()"
   ]
  },
  {
   "cell_type": "markdown",
   "id": "2626fb4d-586a-47e8-9074-fe68f7b5d50c",
   "metadata": {},
   "source": [
    "***Roll Up Usecases***\n",
    "- rollup() is useful for computing subtotals and grand totals."
   ]
  },
  {
   "cell_type": "code",
   "execution_count": 41,
   "id": "9d6250a3-9345-41ad-8e08-8582d5ebc484",
   "metadata": {},
   "outputs": [
    {
     "name": "stdout",
     "output_type": "stream",
     "text": [
      "+----------+------------------+\n",
      "|       Car|     AverageVolume|\n",
      "+----------+------------------+\n",
      "|      Ford|            1540.0|\n",
      "|Mitsubishi|            1200.0|\n",
      "|    Toyoty|            1000.0|\n",
      "|     Volvo|1866.6666666666667|\n",
      "|      Fiat|             900.0|\n",
      "|      Opel|1733.3333333333333|\n",
      "|      NULL| 1611.111111111111|\n",
      "|       BMW|1733.3333333333333|\n",
      "|     Skoda|            1400.0|\n",
      "|    Hundai|            1600.0|\n",
      "|      Audi|1866.6666666666667|\n",
      "|        VW|            1000.0|\n",
      "|     Honda|            1600.0|\n",
      "|      Mini|            1500.0|\n",
      "|     Mazda|            2200.0|\n",
      "|   Hyundai|            1100.0|\n",
      "|  Mercedes|            1940.0|\n",
      "|    Suzuki|            1300.0|\n",
      "+----------+------------------+\n",
      "\n"
     ]
    }
   ],
   "source": [
    "car_dataset.rollup('Car').agg(\n",
    "    avg('Volume').alias('AverageVolume')\n",
    ").show()"
   ]
  },
  {
   "cell_type": "code",
   "execution_count": 43,
   "id": "4fca6817-c4cd-4d99-9f47-ba191eb30349",
   "metadata": {},
   "outputs": [],
   "source": [
    "# Converting df to paraquet\n",
    "car_dataset.write.parquet('parquet/cardataset.parquet')"
   ]
  },
  {
   "cell_type": "code",
   "execution_count": null,
   "id": "494714b3-5f3e-4530-8cb5-f61475655590",
   "metadata": {},
   "outputs": [],
   "source": []
  }
 ],
 "metadata": {
  "kernelspec": {
   "display_name": "Python 3 (ipykernel)",
   "language": "python",
   "name": "python3"
  },
  "language_info": {
   "codemirror_mode": {
    "name": "ipython",
    "version": 3
   },
   "file_extension": ".py",
   "mimetype": "text/x-python",
   "name": "python",
   "nbconvert_exporter": "python",
   "pygments_lexer": "ipython3",
   "version": "3.12.2"
  }
 },
 "nbformat": 4,
 "nbformat_minor": 5
}
