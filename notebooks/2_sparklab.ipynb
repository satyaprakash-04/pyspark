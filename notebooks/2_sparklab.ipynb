{
 "cells": [
  {
   "cell_type": "markdown",
   "id": "23f7163e-8ca5-44b0-8e43-52080e47465f",
   "metadata": {},
   "source": [
    "***Different functions of pyspark***"
   ]
  },
  {
   "cell_type": "code",
   "execution_count": 1,
   "id": "86be36ee-db59-40f7-8a34-d69ae5d82ee7",
   "metadata": {},
   "outputs": [],
   "source": [
    "from pyspark.sql import SparkSession\n",
    "\n",
    "spark = SparkSession.builder.appName('spark_app_3').master('local[*]').getOrCreate()"
   ]
  },
  {
   "cell_type": "code",
   "execution_count": 2,
   "id": "cf7c8e27-6294-4f65-a98e-e28380d0bc6c",
   "metadata": {},
   "outputs": [
    {
     "data": {
      "text/html": [
       "\n",
       "            <div>\n",
       "                <p><b>SparkSession - in-memory</b></p>\n",
       "                \n",
       "        <div>\n",
       "            <p><b>SparkContext</b></p>\n",
       "\n",
       "            <p><a href=\"http://host.docker.internal:4040\">Spark UI</a></p>\n",
       "\n",
       "            <dl>\n",
       "              <dt>Version</dt>\n",
       "                <dd><code>v3.5.5</code></dd>\n",
       "              <dt>Master</dt>\n",
       "                <dd><code>local[*]</code></dd>\n",
       "              <dt>AppName</dt>\n",
       "                <dd><code>spark_app_3</code></dd>\n",
       "            </dl>\n",
       "        </div>\n",
       "        \n",
       "            </div>\n",
       "        "
      ],
      "text/plain": [
       "<pyspark.sql.session.SparkSession at 0x23a5b2ab530>"
      ]
     },
     "execution_count": 2,
     "metadata": {},
     "output_type": "execute_result"
    }
   ],
   "source": [
    "spark"
   ]
  },
  {
   "cell_type": "code",
   "execution_count": 3,
   "id": "9c272223-d05e-4843-8f97-85c023c5eafe",
   "metadata": {},
   "outputs": [],
   "source": [
    "df = spark.read.csv('car_price_dataset.csv', header=True, inferSchema=True)"
   ]
  },
  {
   "cell_type": "code",
   "execution_count": 4,
   "id": "0dabb90d-69ed-4376-b6d3-f7a219565223",
   "metadata": {},
   "outputs": [
    {
     "name": "stdout",
     "output_type": "stream",
     "text": [
      "+----------+------+----+-----------+---------+--------------+-------+-----+-----------+-----+\n",
      "|     Brand| Model|Year|Engine_Size|Fuel_Type|  Transmission|Mileage|Doors|Owner_Count|Price|\n",
      "+----------+------+----+-----------+---------+--------------+-------+-----+-----------+-----+\n",
      "|       Kia|   Rio|2020|        4.2|   Diesel|        Manual| 289944|    3|          5| 8501|\n",
      "| Chevrolet|Malibu|2012|        2.0|   Hybrid|     Automatic|   5356|    2|          3|12092|\n",
      "|  Mercedes|   GLA|2020|        4.2|   Diesel|     Automatic| 231440|    4|          2|11171|\n",
      "|      Audi|    Q5|2023|        2.0| Electric|        Manual| 160971|    2|          1|11780|\n",
      "|Volkswagen|  Golf|2003|        2.6|   Hybrid|Semi-Automatic| 286618|    3|          3| 2867|\n",
      "+----------+------+----+-----------+---------+--------------+-------+-----+-----------+-----+\n",
      "only showing top 5 rows\n",
      "\n"
     ]
    }
   ],
   "source": [
    "df.show(5)"
   ]
  },
  {
   "cell_type": "code",
   "execution_count": 5,
   "id": "ac07e851-9d9a-4d45-819d-c5a662b6da63",
   "metadata": {},
   "outputs": [
    {
     "name": "stdout",
     "output_type": "stream",
     "text": [
      "+----------+--------+----+-----------+---------+--------------+-------+-----+-----------+-----+\n",
      "|     Brand|   Model|Year|Engine_Size|Fuel_Type|  Transmission|Mileage|Doors|Owner_Count|Price|\n",
      "+----------+--------+----+-----------+---------+--------------+-------+-----+-----------+-----+\n",
      "| Chevrolet|  Malibu|2012|        2.0|   Hybrid|     Automatic|   5356|    2|          3|12092|\n",
      "|Volkswagen|    Golf|2003|        2.6|   Hybrid|Semi-Automatic| 286618|    3|          3| 2867|\n",
      "|       Kia|Sportage|2014|        2.6|   Hybrid|        Manual|  98700|    3|          4| 9926|\n",
      "|       BMW|5 Series|2013|        1.3|   Hybrid|     Automatic| 296824|    2|          3| 5863|\n",
      "|Volkswagen|    Golf|2009|        4.5|   Hybrid|        Manual|  42795|    4|          3|11444|\n",
      "+----------+--------+----+-----------+---------+--------------+-------+-----+-----------+-----+\n",
      "only showing top 5 rows\n",
      "\n",
      "+------+--------+----+-----------+---------+------------+-------+-----+-----------+-----+\n",
      "| Brand|   Model|Year|Engine_Size|Fuel_Type|Transmission|Mileage|Doors|Owner_Count|Price|\n",
      "+------+--------+----+-----------+---------+------------+-------+-----+-----------+-----+\n",
      "|Toyota| Corolla|2021|        4.7| Electric|   Automatic|  14924|    5|          3|18301|\n",
      "|  Audi|      A3|2023|        5.0|   Hybrid|   Automatic|  12234|    5|          5|18255|\n",
      "|  Ford|Explorer|2020|        4.8| Electric|   Automatic|  19112|    4|          5|18017|\n",
      "| Honda|  Accord|2022|        4.0| Electric|   Automatic|  14658|    4|          2|17906|\n",
      "| Honda|    CR-V|2023|        4.6|   Hybrid|   Automatic|  10046|    4|          4|17899|\n",
      "+------+--------+----+-----------+---------+------------+-------+-----+-----------+-----+\n",
      "only showing top 5 rows\n",
      "\n"
     ]
    }
   ],
   "source": [
    "# Filter Method\n",
    "# docs: https://spark.apache.org/docs/latest/api/python/reference/pyspark.sql/api/pyspark.sql.DataFrame.filter.html\n",
    "\n",
    "df.filter(df.Fuel_Type == 'Hybrid').show(5)\n",
    "# Or we can write it as\n",
    "df.where(df.Price > 11444).orderBy(df.Price.desc()).show(5)"
   ]
  },
  {
   "cell_type": "code",
   "execution_count": 6,
   "id": "6ef185e1-738d-4178-af61-329460fcc8a3",
   "metadata": {},
   "outputs": [
    {
     "name": "stdout",
     "output_type": "stream",
     "text": [
      "+---------+--------+----+-----------+---------+------------+-------+-----+-----------+-----+\n",
      "|    Brand|   Model|Year|Engine_Size|Fuel_Type|Transmission|Mileage|Doors|Owner_Count|Price|\n",
      "+---------+--------+----+-----------+---------+------------+-------+-----+-----------+-----+\n",
      "|     Ford|Explorer|2013|        5.0| Electric|   Automatic| 188195|    5|          3|12736|\n",
      "|     Ford|  Fiesta|2011|        5.0|   Petrol|   Automatic| 125014|    4|          5|11399|\n",
      "|Chevrolet|  Impala|2019|        5.0|   Petrol|   Automatic| 266558|    2|          2|10968|\n",
      "|   Toyota|    RAV4|2011|        5.0|   Hybrid|   Automatic|  13473|    5|          4|14630|\n",
      "|      Kia|  Optima|2022|        5.0| Electric|   Automatic| 260953|    5|          4|13980|\n",
      "+---------+--------+----+-----------+---------+------------+-------+-----+-----------+-----+\n",
      "only showing top 5 rows\n",
      "\n",
      "+------+-------+----+-----------+---------+--------------+-------+-----+-----------+-----+\n",
      "| Brand|  Model|Year|Engine_Size|Fuel_Type|  Transmission|Mileage|Doors|Owner_Count|Price|\n",
      "+------+-------+----+-----------+---------+--------------+-------+-----+-----------+-----+\n",
      "|  Audi|     A3|2022|        3.3| Electric|        Manual|  79350|    5|          3|14413|\n",
      "|Toyota|Corolla|2010|        3.2|   Diesel|     Automatic| 132454|    4|          4| 9150|\n",
      "|  Audi|     A3|2009|        1.2| Electric|     Automatic| 111448|    5|          1| 9271|\n",
      "|Toyota|Corolla|2014|        4.1|   Petrol|     Automatic|  17100|    5|          5|13558|\n",
      "|  Audi|     A3|2022|        3.8| Electric|Semi-Automatic| 275109|    2|          5|10997|\n",
      "+------+-------+----+-----------+---------+--------------+-------+-----+-----------+-----+\n",
      "only showing top 5 rows\n",
      "\n"
     ]
    }
   ],
   "source": [
    "# more than 1 filter \n",
    "df.filter(df.Engine_Size == 5.0).filter(df.Transmission == 'Automatic').show(5)\n",
    "# Or for more efficient way we can write it using '&' for AND operator, '|' for OR operator\n",
    "df.filter(\n",
    "    (df.Transmission=='Automatic') &\n",
    "    (df.Model=='Corolla') |\n",
    "    (df.Model=='A3')\n",
    ").show(5)"
   ]
  },
  {
   "cell_type": "code",
   "execution_count": 7,
   "id": "ada0826e-6e61-4fe5-853b-4b7142c43dd7",
   "metadata": {},
   "outputs": [],
   "source": [
    "spark.stop()"
   ]
  }
 ],
 "metadata": {
  "kernelspec": {
   "display_name": "Python 3 (ipykernel)",
   "language": "python",
   "name": "python3"
  },
  "language_info": {
   "codemirror_mode": {
    "name": "ipython",
    "version": 3
   },
   "file_extension": ".py",
   "mimetype": "text/x-python",
   "name": "python",
   "nbconvert_exporter": "python",
   "pygments_lexer": "ipython3",
   "version": "3.12.2"
  }
 },
 "nbformat": 4,
 "nbformat_minor": 5
}
