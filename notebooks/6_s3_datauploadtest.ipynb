{
 "cells": [
  {
   "cell_type": "code",
   "execution_count": 1,
   "id": "f707ff5b-78a5-46bb-bfcb-c76bda83fe71",
   "metadata": {},
   "outputs": [],
   "source": [
    "import boto3\n",
    "import os\n",
    "from io import StringIO\n",
    "from dotenv import load_dotenv\n",
    "load_dotenv()\n",
    "AWS_ACCESS_KEY = os.environ['AWS_ACCESS_KEY']\n",
    "AWS_SECRET_KEY = os.environ['AWS_SECRET_KEY']\n",
    "AWS_REGION = os.environ['AWS_REGION']\n",
    "BUCKET = os.environ['BUCKET']"
   ]
  },
  {
   "cell_type": "code",
   "execution_count": 2,
   "id": "9818f821-cfb7-4c2a-9086-c31b5aeb8055",
   "metadata": {},
   "outputs": [
    {
     "data": {
      "text/plain": [
       "<botocore.client.S3 at 0x1b352729fd0>"
      ]
     },
     "execution_count": 2,
     "metadata": {},
     "output_type": "execute_result"
    }
   ],
   "source": [
    "s3_client = boto3.client(\n",
    "            's3',\n",
    "            region_name=AWS_REGION,\n",
    "            aws_access_key_id=AWS_ACCESS_KEY,\n",
    "            aws_secret_access_key=AWS_SECRET_KEY\n",
    "        )\n",
    "s3_client"
   ]
  },
  {
   "cell_type": "code",
   "execution_count": null,
   "id": "4c70e366-5767-4338-ad1b-96363c2fc48a",
   "metadata": {},
   "outputs": [],
   "source": []
  }
 ],
 "metadata": {
  "kernelspec": {
   "display_name": "Python 3 (ipykernel)",
   "language": "python",
   "name": "python3"
  },
  "language_info": {
   "codemirror_mode": {
    "name": "ipython",
    "version": 3
   },
   "file_extension": ".py",
   "mimetype": "text/x-python",
   "name": "python",
   "nbconvert_exporter": "python",
   "pygments_lexer": "ipython3",
   "version": "3.12.2"
  }
 },
 "nbformat": 4,
 "nbformat_minor": 5
}
