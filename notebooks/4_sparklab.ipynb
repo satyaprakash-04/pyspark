{
 "cells": [
  {
   "cell_type": "markdown",
   "id": "86e7c11c-9f16-4609-82b5-fae486538a7f",
   "metadata": {},
   "source": [
    "## ***Advance Usecases in Spark***"
   ]
  },
  {
   "cell_type": "code",
   "execution_count": 1,
   "id": "8a4144f0-c59e-46ab-b562-936f8465e212",
   "metadata": {},
   "outputs": [],
   "source": [
    "from pyspark.sql import SparkSession\n",
    "from pyspark.sql.types import StructType, StructField, StringType, FloatType, IntegerType,DateType"
   ]
  },
  {
   "cell_type": "code",
   "execution_count": 2,
   "id": "90d42594-ca6f-471b-8b9a-2595c2cb76dd",
   "metadata": {},
   "outputs": [],
   "source": [
    "spark = SparkSession.builder.appName('spark_app_4').master('local[*]').getOrCreate()"
   ]
  },
  {
   "cell_type": "code",
   "execution_count": 3,
   "id": "7ecccbd5-9a54-4af9-9b67-4774ea8f4e7b",
   "metadata": {},
   "outputs": [],
   "source": [
    "# Defining Schema for the dataset\n",
    "# Like we do model in django\n",
    "schema = StructType([\n",
    "    StructField('Brand', StringType(), nullable=True),\n",
    "    StructField('Model', StringType(), nullable=True),\n",
    "    StructField('Year', DateType(), nullable=True),\n",
    "    StructField('Engine_Size', FloatType(), nullable=True),\n",
    "    StructField('Fuel_Type', StringType(), nullable=True),\n",
    "    StructField('Transmission', StringType(), nullable=True),\n",
    "    StructField('Mileage', IntegerType(), nullable=True),\n",
    "    StructField('Doors', IntegerType(), nullable=True),\n",
    "    StructField('Owner_Count', IntegerType(), nullable=True),\n",
    "    StructField('Price', IntegerType(), nullable=True)\n",
    "])"
   ]
  },
  {
   "cell_type": "code",
   "execution_count": 4,
   "id": "d8741057-7bf2-4290-9371-11f6988f556c",
   "metadata": {},
   "outputs": [
    {
     "name": "stdout",
     "output_type": "stream",
     "text": [
      "+----------+------+----------+-----------+---------+--------------+-------+-----+-----------+-----+\n",
      "|     Brand| Model|      Year|Engine_Size|Fuel_Type|  Transmission|Mileage|Doors|Owner_Count|Price|\n",
      "+----------+------+----------+-----------+---------+--------------+-------+-----+-----------+-----+\n",
      "|       Kia|   Rio|2020-01-01|        4.2|   Diesel|        Manual| 289944|    3|          5| 8501|\n",
      "| Chevrolet|Malibu|2012-01-01|        2.0|   Hybrid|     Automatic|   5356|    2|          3|12092|\n",
      "|  Mercedes|   GLA|2020-01-01|        4.2|   Diesel|     Automatic| 231440|    4|          2|11171|\n",
      "|      Audi|    Q5|2023-01-01|        2.0| Electric|        Manual| 160971|    2|          1|11780|\n",
      "|Volkswagen|  Golf|2003-01-01|        2.6|   Hybrid|Semi-Automatic| 286618|    3|          3| 2867|\n",
      "+----------+------+----------+-----------+---------+--------------+-------+-----+-----------+-----+\n",
      "only showing top 5 rows\n",
      "\n"
     ]
    }
   ],
   "source": [
    "# Creating a dataframe\n",
    "df = spark.read.csv('car_price_dataset.csv', schema=schema, header=True)\n",
    "df.show(5)"
   ]
  },
  {
   "cell_type": "code",
   "execution_count": 5,
   "id": "6c9d9881-fc6d-425e-9dea-5f018c9ebc99",
   "metadata": {
    "scrolled": true
   },
   "outputs": [
    {
     "name": "stdout",
     "output_type": "stream",
     "text": [
      "root\n",
      " |-- Brand: string (nullable = true)\n",
      " |-- Model: string (nullable = true)\n",
      " |-- Year: date (nullable = true)\n",
      " |-- Engine_Size: float (nullable = true)\n",
      " |-- Fuel_Type: string (nullable = true)\n",
      " |-- Transmission: string (nullable = true)\n",
      " |-- Mileage: integer (nullable = true)\n",
      " |-- Doors: integer (nullable = true)\n",
      " |-- Owner_Count: integer (nullable = true)\n",
      " |-- Price: integer (nullable = true)\n",
      "\n"
     ]
    },
    {
     "data": {
      "text/plain": [
       "(None,\n",
       " [('Brand', 'string'),\n",
       "  ('Model', 'string'),\n",
       "  ('Year', 'date'),\n",
       "  ('Engine_Size', 'float'),\n",
       "  ('Fuel_Type', 'string'),\n",
       "  ('Transmission', 'string'),\n",
       "  ('Mileage', 'int'),\n",
       "  ('Doors', 'int'),\n",
       "  ('Owner_Count', 'int'),\n",
       "  ('Price', 'int')])"
      ]
     },
     "execution_count": 5,
     "metadata": {},
     "output_type": "execute_result"
    }
   ],
   "source": [
    "# To know the data types of the columns of the dataframe\n",
    "df.printSchema(), df.dtypes"
   ]
  },
  {
   "cell_type": "code",
   "execution_count": 6,
   "id": "ff504270-c68e-4629-9daa-7fda3b7cb2bb",
   "metadata": {},
   "outputs": [
    {
     "name": "stdout",
     "output_type": "stream",
     "text": [
      "+-----+-----+----------+-----------+---------+--------------+-------+-----+-----------+-----+\n",
      "|Brand|Model|      Year|Engine_Size|Fuel_Type|  Transmission|Mileage|Doors|Owner_Count|Price|\n",
      "+-----+-----+----------+-----------+---------+--------------+-------+-----+-----------+-----+\n",
      "|  Kia|  Rio|2020-01-01|        4.2|   Diesel|        Manual| 289944|    3|          5| 8501|\n",
      "|  Kia|  Rio|2020-01-01|        1.8|   Hybrid|     Automatic|  28207|    5|          5|13835|\n",
      "|  Kia|  Rio|2020-01-01|        3.1|   Diesel|Semi-Automatic| 175803|    5|          4| 9683|\n",
      "|  Kia|  Rio|2020-01-01|        1.3|   Hybrid|Semi-Automatic| 232567|    5|          5| 7748|\n",
      "|  Kia|  Rio|2020-01-01|        3.8|   Hybrid|        Manual| 137014|    4|          3|12159|\n",
      "+-----+-----+----------+-----------+---------+--------------+-------+-----+-----------+-----+\n",
      "only showing top 5 rows\n",
      "\n"
     ]
    }
   ],
   "source": [
    "# Filter data \n",
    "from pyspark.sql.functions import lower, upper\n",
    "from datetime import datetime\n",
    "df.filter(\n",
    "    (lower(df.Model) == 'rio') & \n",
    "    (df.Year == datetime.strptime('2020', '%Y'))\n",
    ").show(5)"
   ]
  },
  {
   "cell_type": "code",
   "execution_count": 7,
   "id": "f27967d7-8be3-4253-a91e-442c300ca98b",
   "metadata": {},
   "outputs": [
    {
     "name": "stdout",
     "output_type": "stream",
     "text": [
      "+----------+------+----------+-----------+---------+--------------+-------+-----+-----------+-----+\n",
      "|     Brand| Model|      Year|Engine_Size|Fuel_Type|  Transmission|Mileage|Doors|Owner_Count|Price|\n",
      "+----------+------+----------+-----------+---------+--------------+-------+-----+-----------+-----+\n",
      "|       Kia|   Rio|2020-01-01|        4.2|   Diesel|        Manual| 289944|    3|          5| 8501|\n",
      "| Chevrolet|Malibu|2012-01-01|        2.0|   Hybrid|     Automatic|   5356|    2|          3|12092|\n",
      "|  Mercedes|   GLA|2020-01-01|        4.2|   Diesel|     Automatic| 231440|    4|          2|11171|\n",
      "|      Audi|    Q5|2023-01-01|        2.0| Electric|        Manual| 160971|    2|          1|11780|\n",
      "|Volkswagen|  Golf|2003-01-01|        2.6|   Hybrid|Semi-Automatic| 286618|    3|          3| 2867|\n",
      "+----------+------+----------+-----------+---------+--------------+-------+-----+-----------+-----+\n",
      "only showing top 5 rows\n",
      "\n"
     ]
    },
    {
     "data": {
      "text/plain": [
       "([Row(Brand='Kia', Model='Rio', Year=datetime.date(2020, 1, 1), Engine_Size=4.199999809265137, Fuel_Type='Diesel', Transmission='Manual', Mileage=289944, Doors=3, Owner_Count=5, Price=8501),\n",
       "  Row(Brand='Chevrolet', Model='Malibu', Year=datetime.date(2012, 1, 1), Engine_Size=2.0, Fuel_Type='Hybrid', Transmission='Automatic', Mileage=5356, Doors=2, Owner_Count=3, Price=12092),\n",
       "  Row(Brand='Mercedes', Model='GLA', Year=datetime.date(2020, 1, 1), Engine_Size=4.199999809265137, Fuel_Type='Diesel', Transmission='Automatic', Mileage=231440, Doors=4, Owner_Count=2, Price=11171),\n",
       "  Row(Brand='Audi', Model='Q5', Year=datetime.date(2023, 1, 1), Engine_Size=2.0, Fuel_Type='Electric', Transmission='Manual', Mileage=160971, Doors=2, Owner_Count=1, Price=11780),\n",
       "  Row(Brand='Volkswagen', Model='Golf', Year=datetime.date(2003, 1, 1), Engine_Size=2.5999999046325684, Fuel_Type='Hybrid', Transmission='Semi-Automatic', Mileage=286618, Doors=3, Owner_Count=3, Price=2867)],\n",
       " None)"
      ]
     },
     "execution_count": 7,
     "metadata": {},
     "output_type": "execute_result"
    }
   ],
   "source": [
    "# to get the first 'n'number of rows df.take(n) or df.show(5),\n",
    "# Here df.show(5) return data in a tabular format and df.show returns data in a list of rowe format.\n",
    "df.take(5),  df.show(5)"
   ]
  },
  {
   "cell_type": "markdown",
   "id": "5be9cac6-5749-4e9a-ba0d-5413cf790eda",
   "metadata": {},
   "source": [
    "***Manupulating columns in a DataFrame***\n",
    "- df.select('<columnn Name>') or df.select(['\\<Column_1\\>', '\\<Column_2\\>', ....]).\n",
    "- df.filter(df.column_name == 'some name') or df.filter((df.column_name == 'some name 1') & (df.column_name_2 = 'some name 2'))\n",
    "- df.orderBy(df.column_name.desc) used for ordering of data."
   ]
  },
  {
   "cell_type": "code",
   "execution_count": 8,
   "id": "d30a6acb-74dd-4680-b930-1c24ce70be36",
   "metadata": {},
   "outputs": [
    {
     "name": "stdout",
     "output_type": "stream",
     "text": [
      "+---------+\n",
      "|    Brand|\n",
      "+---------+\n",
      "|      Kia|\n",
      "|Chevrolet|\n",
      "+---------+\n",
      "only showing top 2 rows\n",
      "\n",
      "+---------+------+\n",
      "|    Brand| Model|\n",
      "+---------+------+\n",
      "|      Kia|   Rio|\n",
      "|Chevrolet|Malibu|\n",
      "+---------+------+\n",
      "only showing top 2 rows\n",
      "\n"
     ]
    }
   ],
   "source": [
    "# Selectingsingle or multipe Columns\n",
    "df.select('Brand').show(2)\n",
    "df.select(['Brand', 'Model']).show(2)"
   ]
  },
  {
   "cell_type": "code",
   "execution_count": 9,
   "id": "71f67755-2b69-48b5-aefa-6fb4a146f2b5",
   "metadata": {},
   "outputs": [
    {
     "name": "stdout",
     "output_type": "stream",
     "text": [
      "+-----+--------+----------+-----------+---------+--------------+-------+-----+-----------+-----+\n",
      "|Brand|   Model|      Year|Engine_Size|Fuel_Type|  Transmission|Mileage|Doors|Owner_Count|Price|\n",
      "+-----+--------+----------+-----------+---------+--------------+-------+-----+-----------+-----+\n",
      "|  Kia|     Rio|2020-01-01|        4.2|   Diesel|        Manual| 289944|    3|          5| 8501|\n",
      "|  Kia|Sportage|2001-01-01|        4.7| Electric|Semi-Automatic| 157495|    2|          2| 7950|\n",
      "+-----+--------+----------+-----------+---------+--------------+-------+-----+-----------+-----+\n",
      "only showing top 2 rows\n",
      "\n"
     ]
    }
   ],
   "source": [
    "# Filter command\n",
    "# Filterind data where brand name is Rio.\n",
    "df.filter(df.Brand == 'Kia').show(2)"
   ]
  },
  {
   "cell_type": "code",
   "execution_count": 10,
   "id": "c6d49ab3-a13d-4fbe-8ec3-ec69c9d1beea",
   "metadata": {},
   "outputs": [
    {
     "name": "stdout",
     "output_type": "stream",
     "text": [
      "+-----+-----+----------+-----------+---------+--------------+-------+-----+-----------+-----+\n",
      "|Brand|Model|      Year|Engine_Size|Fuel_Type|  Transmission|Mileage|Doors|Owner_Count|Price|\n",
      "+-----+-----+----------+-----------+---------+--------------+-------+-----+-----------+-----+\n",
      "|  Kia|  Rio|2020-01-01|        4.2|   Diesel|        Manual| 289944|    3|          5| 8501|\n",
      "|  Kia|  Rio|2000-01-01|        3.4|   Diesel|Semi-Automatic| 257427|    3|          3| 2351|\n",
      "+-----+-----+----------+-----------+---------+--------------+-------+-----+-----------+-----+\n",
      "only showing top 2 rows\n",
      "\n"
     ]
    }
   ],
   "source": [
    "#  Filtering data case Insensitively using lower function in pyspark.sql.functions.lower\n",
    "df.filter(lower(df.Model) == 'rio').show(2)"
   ]
  },
  {
   "cell_type": "code",
   "execution_count": 11,
   "id": "545844a7-572e-4437-84c4-0c930b78c4bf",
   "metadata": {},
   "outputs": [
    {
     "name": "stdout",
     "output_type": "stream",
     "text": [
      "+--------+-------+----------+-----------+---------+--------------+-------+-----+-----------+-----+\n",
      "|   Brand|  Model|      Year|Engine_Size|Fuel_Type|  Transmission|Mileage|Doors|Owner_Count|Price|\n",
      "+--------+-------+----------+-----------+---------+--------------+-------+-----+-----------+-----+\n",
      "|Mercedes|    GLA|2021-01-01|        1.5|   Petrol|        Manual|  34640|    2|          1|11207|\n",
      "|Mercedes|    GLA|2016-01-01|        3.9|   Petrol|Semi-Automatic|  19868|    3|          4|12402|\n",
      "|Mercedes|    GLA|2013-01-01|        3.3| Electric|Semi-Automatic|  80184|    3|          5|11696|\n",
      "|Mercedes|C-Class|2023-01-01|        4.6| Electric|Semi-Automatic| 274137|    2|          3|12117|\n",
      "|Mercedes|C-Class|2018-01-01|        4.0|   Petrol|        Manual|  66347|    3|          2|12173|\n",
      "|Mercedes|E-Class|2023-01-01|        3.9|   Hybrid|Semi-Automatic|  58107|    3|          2|14737|\n",
      "|Mercedes|E-Class|2014-01-01|        3.8| Electric|Semi-Automatic|   5877|    5|          5|13982|\n",
      "|Mercedes|C-Class|2011-01-01|        2.3| Electric|Semi-Automatic|    885|    3|          2|11682|\n",
      "|Mercedes|    GLA|2008-01-01|        3.2| Electric|        Manual|  25557|    5|          4|11188|\n",
      "|Mercedes|E-Class|2001-01-01|        4.4|   Hybrid|     Automatic|   1937|    4|          4|11261|\n",
      "|Mercedes|    GLA|2023-01-01|        1.3| Electric|Semi-Automatic|  78961|    5|          2|12720|\n",
      "|Mercedes|E-Class|2018-01-01|        3.4|   Diesel|        Manual|  53596|    5|          1|11828|\n",
      "|Mercedes|    GLA|2018-01-01|        2.0|   Hybrid|     Automatic| 119566|    5|          5|11608|\n",
      "|Mercedes|C-Class|2017-01-01|        2.3| Electric|Semi-Automatic|  40455|    4|          1|12690|\n",
      "|Mercedes|    GLA|2018-01-01|        4.8|   Hybrid|     Automatic| 108824|    3|          4|14623|\n",
      "|Mercedes|    GLA|2002-01-01|        4.6| Electric|     Automatic|  28405|    5|          4|12231|\n",
      "|Mercedes|C-Class|2015-01-01|        4.4|   Hybrid|Semi-Automatic| 139468|    5|          4|11210|\n",
      "|Mercedes|E-Class|2018-01-01|        2.2| Electric|        Manual|  68474|    3|          1|12330|\n",
      "|Mercedes|C-Class|2023-01-01|        2.9| Electric|     Automatic| 102120|    4|          1|15357|\n",
      "|Mercedes|    GLA|2020-01-01|        3.4|   Diesel|        Manual|  18840|    4|          3|13123|\n",
      "+--------+-------+----------+-----------+---------+--------------+-------+-----+-----------+-----+\n",
      "only showing top 20 rows\n",
      "\n"
     ]
    }
   ],
   "source": [
    "# Filterinf data with multiple commands with AND statement\n",
    "df.filter(\n",
    "    (df.Brand == 'Mercedes') &\n",
    "    (df.Price > '11171')\n",
    ").show()"
   ]
  },
  {
   "cell_type": "code",
   "execution_count": 12,
   "id": "e8819414-aeb2-4678-b158-db3c866c60c2",
   "metadata": {},
   "outputs": [
    {
     "name": "stdout",
     "output_type": "stream",
     "text": [
      "+--------+--------+----------+-----------+---------+--------------+-------+-----+-----------+-----+\n",
      "|   Brand|   Model|      Year|Engine_Size|Fuel_Type|  Transmission|Mileage|Doors|Owner_Count|Price|\n",
      "+--------+--------+----------+-----------+---------+--------------+-------+-----+-----------+-----+\n",
      "|     Kia|     Rio|2020-01-01|        4.2|   Diesel|        Manual| 289944|    3|          5| 8501|\n",
      "|Mercedes|     GLA|2020-01-01|        4.2|   Diesel|     Automatic| 231440|    4|          2|11171|\n",
      "|     Kia|Sportage|2001-01-01|        4.7| Electric|Semi-Automatic| 157495|    2|          2| 7950|\n",
      "|     Kia|Sportage|2014-01-01|        2.6|   Hybrid|        Manual|  98700|    3|          4| 9926|\n",
      "|     Kia|     Rio|2000-01-01|        3.4|   Diesel|Semi-Automatic| 257427|    3|          3| 2351|\n",
      "|Mercedes|     GLA|2021-01-01|        1.5|   Petrol|        Manual|  34640|    2|          1|11207|\n",
      "|Mercedes|     GLA|2016-01-01|        3.9|   Petrol|Semi-Automatic|  19868|    3|          4|12402|\n",
      "|     Kia|Sportage|2011-01-01|        1.8|   Diesel|     Automatic|  92188|    2|          4| 8856|\n",
      "|Mercedes|     GLA|2013-01-01|        3.3| Electric|Semi-Automatic|  80184|    3|          5|11696|\n",
      "|     Kia|  Optima|2005-01-01|        4.5|   Petrol|        Manual|  18590|    2|          5| 9728|\n",
      "|     Kia|Sportage|2000-01-01|        1.4| Electric|        Manual| 167050|    5|          4| 4159|\n",
      "|Mercedes|     GLA|2013-01-01|        1.9|   Petrol|        Manual| 205005|    2|          2| 5799|\n",
      "|Mercedes| E-Class|2004-01-01|        4.9|   Petrol|Semi-Automatic| 175273|    3|          5| 6694|\n",
      "|Mercedes|     GLA|2022-01-01|        3.8|   Diesel|        Manual| 191466|    3|          2|10670|\n",
      "|     Kia|  Optima|2020-01-01|        3.2| Electric|        Manual|  88070|    3|          5|13538|\n",
      "|Mercedes| C-Class|2007-01-01|        2.7|   Hybrid|        Manual| 147310|    5|          2| 6953|\n",
      "|Mercedes|     GLA|2011-01-01|        4.0|   Diesel|        Manual| 140263|    4|          5| 8594|\n",
      "|     Kia|  Optima|2008-01-01|        4.6|   Petrol|        Manual| 164879|    2|          4| 7802|\n",
      "|     Kia|Sportage|2017-01-01|        2.7|   Hybrid|     Automatic| 242456|    2|          5| 9550|\n",
      "|Mercedes|     GLA|2007-01-01|        2.3| Electric|        Manual|  76458|    3|          5| 8970|\n",
      "+--------+--------+----------+-----------+---------+--------------+-------+-----+-----------+-----+\n",
      "only showing top 20 rows\n",
      "\n"
     ]
    }
   ],
   "source": [
    "# Filtering data with Or Statement\n",
    "df.filter(\n",
    "    (df.Brand == 'Mercedes') |\n",
    "    (df.Brand == 'Kia')\n",
    ").show()"
   ]
  },
  {
   "cell_type": "code",
   "execution_count": 13,
   "id": "2729c5c5-8c01-4cef-b09f-642629860079",
   "metadata": {},
   "outputs": [
    {
     "name": "stdout",
     "output_type": "stream",
     "text": [
      "+-----------+-----+\n",
      "|Owner_Count|Doors|\n",
      "+-----------+-----+\n",
      "|          5|    3|\n",
      "|          2|    4|\n",
      "|          2|    2|\n",
      "|          4|    3|\n",
      "|          3|    3|\n",
      "+-----------+-----+\n",
      "only showing top 5 rows\n",
      "\n"
     ]
    }
   ],
   "source": [
    "# Selecting Column after filtering\n",
    "df.filter(\n",
    "    (df.Brand == 'Mercedes') |\n",
    "    (df.Brand == 'Kia')\n",
    ").select(['Owner_Count', 'Doors']).show(5)"
   ]
  },
  {
   "cell_type": "code",
   "execution_count": 14,
   "id": "3dd3fd10-0511-4db2-bc4a-3b0d1cafb4b8",
   "metadata": {},
   "outputs": [
    {
     "name": "stdout",
     "output_type": "stream",
     "text": [
      "+--------+-------+----------+-----------+---------+--------------+-------+-----+-----------+-----+\n",
      "|   Brand|  Model|      Year|Engine_Size|Fuel_Type|  Transmission|Mileage|Doors|Owner_Count|Price|\n",
      "+--------+-------+----------+-----------+---------+--------------+-------+-----+-----------+-----+\n",
      "|Mercedes|C-Class|2002-01-01|        1.2|   Petrol|        Manual| 211790|    4|          3| 2000|\n",
      "|Mercedes|    GLA|2000-01-01|        2.0|   Petrol|Semi-Automatic| 289423|    2|          2| 2000|\n",
      "|Mercedes|    GLA|2003-01-01|        1.3|   Petrol|        Manual| 294888|    5|          2| 2000|\n",
      "|Mercedes|    GLA|2004-01-01|        2.1|   Petrol|        Manual| 297401|    4|          3| 2000|\n",
      "|Mercedes|C-Class|2003-01-01|        1.0|   Petrol|        Manual| 290535|    5|          2| 2000|\n",
      "|Mercedes|E-Class|2002-01-01|        1.4|   Petrol|     Automatic| 258150|    3|          2| 2437|\n",
      "|Mercedes|E-Class|2009-01-01|        1.3|   Petrol|        Manual| 277187|    2|          4| 2556|\n",
      "|Mercedes|    GLA|2006-01-01|        2.2|   Petrol|Semi-Automatic| 273418|    2|          1| 2631|\n",
      "|Mercedes|C-Class|2007-01-01|        1.7|   Petrol|Semi-Automatic| 255059|    5|          2| 2798|\n",
      "|Mercedes|C-Class|2005-01-01|        3.2|   Petrol|Semi-Automatic| 298890|    3|          5| 2822|\n",
      "|Mercedes|C-Class|2000-01-01|        1.1|   Petrol|Semi-Automatic| 117793|    4|          3| 2844|\n",
      "|Mercedes|C-Class|2000-01-01|        4.2|   Petrol|        Manual| 270079|    5|          2| 2898|\n",
      "|Mercedes|C-Class|2002-01-01|        1.1|   Petrol|        Manual| 144038|    4|          5| 2919|\n",
      "|Mercedes|C-Class|2002-01-01|        1.0|   Petrol|        Manual| 135119|    5|          4| 2997|\n",
      "|Mercedes|E-Class|2000-01-01|        4.8|   Petrol|        Manual| 289527|    5|          2| 3109|\n",
      "|Mercedes|    GLA|2002-01-01|        3.1|   Petrol|        Manual| 233620|    4|          5| 3127|\n",
      "|Mercedes|    GLA|2008-01-01|        1.2|   Petrol|        Manual| 223313|    5|          1| 3233|\n",
      "|Mercedes|    GLA|2007-01-01|        3.3|   Petrol|Semi-Automatic| 284495|    2|          5| 3810|\n",
      "|Mercedes|E-Class|2004-01-01|        2.7|   Petrol|Semi-Automatic| 208100|    5|          5| 3838|\n",
      "|Mercedes|C-Class|2000-01-01|        1.9|   Petrol|     Automatic| 176656|    3|          4| 3966|\n",
      "+--------+-------+----------+-----------+---------+--------------+-------+-----+-----------+-----+\n",
      "only showing top 20 rows\n",
      "\n",
      "+--------+-------+----------+-----------+---------+--------------+-------+-----+-----------+-----+\n",
      "|   Brand|  Model|      Year|Engine_Size|Fuel_Type|  Transmission|Mileage|Doors|Owner_Count|Price|\n",
      "+--------+-------+----------+-----------+---------+--------------+-------+-----+-----------+-----+\n",
      "|Mercedes|C-Class|2023-01-01|        4.2|   Petrol|        Manual|  18248|    2|          5|14835|\n",
      "|Mercedes|C-Class|2020-01-01|        3.5|   Petrol|     Automatic|  23933|    3|          3|14621|\n",
      "|Mercedes|E-Class|2022-01-01|        3.3|   Petrol|     Automatic|  57797|    5|          3|14344|\n",
      "|Mercedes|E-Class|2023-01-01|        4.4|   Petrol|Semi-Automatic|  53236|    2|          3|14335|\n",
      "|Mercedes|E-Class|2021-01-01|        3.9|   Petrol|        Manual|  16170|    4|          4|13976|\n",
      "|Mercedes|    GLA|2018-01-01|        4.7|   Petrol|Semi-Automatic|  15328|    4|          3|13893|\n",
      "|Mercedes|C-Class|2013-01-01|        4.7|   Petrol|     Automatic|  28265|    3|          1|13634|\n",
      "|Mercedes|C-Class|2022-01-01|        4.5|   Petrol|        Manual|  78604|    5|          3|13627|\n",
      "|Mercedes|C-Class|2021-01-01|        3.3|   Petrol|        Manual|   4500|    2|          5|13610|\n",
      "|Mercedes|E-Class|2020-01-01|        5.0|   Petrol|        Manual|  76117|    2|          1|13577|\n",
      "|Mercedes|    GLA|2021-01-01|        4.6|   Petrol|Semi-Automatic|  71555|    2|          2|13568|\n",
      "|Mercedes|E-Class|2022-01-01|        3.2|   Petrol|     Automatic|  92823|    5|          4|13543|\n",
      "|Mercedes|    GLA|2016-01-01|        4.3|   Petrol|Semi-Automatic|   2209|    5|          1|13155|\n",
      "|Mercedes|    GLA|2018-01-01|        4.3|   Petrol|        Manual|  35492|    2|          2|13090|\n",
      "|Mercedes|C-Class|2023-01-01|        5.0|   Petrol|Semi-Automatic| 146333|    4|          1|13073|\n",
      "|Mercedes|    GLA|2021-01-01|        2.8|   Petrol|        Manual|   6940|    4|          1|13061|\n",
      "|Mercedes|C-Class|2023-01-01|        1.6|   Petrol|     Automatic|  53057|    2|          5|13038|\n",
      "|Mercedes|    GLA|2016-01-01|        2.7|   Petrol|     Automatic|   5216|    5|          5|12995|\n",
      "|Mercedes|    GLA|2022-01-01|        5.0|   Petrol|     Automatic| 211047|    4|          2|12979|\n",
      "|Mercedes|    GLA|2022-01-01|        2.9|   Petrol|Semi-Automatic|  37227|    3|          2|12855|\n",
      "+--------+-------+----------+-----------+---------+--------------+-------+-----+-----------+-----+\n",
      "only showing top 20 rows\n",
      "\n"
     ]
    }
   ],
   "source": [
    "# Sorting of data based on column\n",
    "# type 1\n",
    "df.filter(\n",
    "    (lower(df.Fuel_Type) == 'petrol') &\n",
    "    (df.Brand == 'Mercedes')\n",
    ").orderBy(df.Price.asc()).show()\n",
    "# type 2\n",
    "df.filter(\n",
    "    (lower(df.Fuel_Type) == 'petrol') &\n",
    "    (df.Brand == 'Mercedes')\n",
    ").sort('Price', ascending=False).show()"
   ]
  },
  {
   "cell_type": "markdown",
   "id": "ef6e9a21-ccf6-42ec-9af9-79e65b716c21",
   "metadata": {},
   "source": [
    "***Manipulating columns in PySpark***"
   ]
  },
  {
   "cell_type": "code",
   "execution_count": 15,
   "id": "0d4fbf8c-548f-4e10-bb6b-48de41be57f4",
   "metadata": {},
   "outputs": [],
   "source": [
    "from pyspark.sql.functions import lit, rand"
   ]
  },
  {
   "cell_type": "code",
   "execution_count": 16,
   "id": "2bb24bb2-bc57-43f6-9cc4-4a2648c90cfa",
   "metadata": {},
   "outputs": [
    {
     "name": "stdout",
     "output_type": "stream",
     "text": [
      "+----------+--------+-----+--------------+\n",
      "|     Brand|   Model|Price|price_with_tax|\n",
      "+----------+--------+-----+--------------+\n",
      "|       Kia|     Rio| 8501|      10031.18|\n",
      "| Chevrolet|  Malibu|12092|      14268.56|\n",
      "|  Mercedes|     GLA|11171|      13181.78|\n",
      "|      Audi|      Q5|11780|       13900.4|\n",
      "|Volkswagen|    Golf| 2867|       3383.06|\n",
      "|    Toyota|   Camry| 7242|       8545.56|\n",
      "|     Honda|   Civic|11208|      13225.44|\n",
      "|       Kia|Sportage| 7950|        9381.0|\n",
      "|       Kia|Sportage| 9926|      11712.68|\n",
      "|    Toyota|    RAV4| 6545|        7723.1|\n",
      "|       BMW|5 Series| 5863|       6918.34|\n",
      "|Volkswagen|    Golf|11444|      13503.92|\n",
      "|     Honda|    CR-V|10842|      12793.56|\n",
      "|   Hyundai| Elantra| 4820|        5687.6|\n",
      "|Volkswagen|    Golf| 5981|       7057.58|\n",
      "|Volkswagen|    Golf| 9697|      11442.46|\n",
      "|   Hyundai| Elantra|14837|      17507.66|\n",
      "|Volkswagen|  Tiguan|11576|      13659.68|\n",
      "|       Kia|     Rio| 2351|       2774.18|\n",
      "|  Mercedes|     GLA|11207|      13224.26|\n",
      "+----------+--------+-----+--------------+\n",
      "only showing top 20 rows\n",
      "\n"
     ]
    }
   ],
   "source": [
    "# I want to add a new column named new_price which has 18% GST included with it\n",
    "df.withColumn('price_with_tax', df.Price+(0.18*df.Price)).select([\"Brand\", \"Model\", \"Price\", \"price_with_tax\"]).show()"
   ]
  },
  {
   "cell_type": "markdown",
   "id": "9efcbe14-4e36-4752-91a0-cc0803ce04bb",
   "metadata": {},
   "source": [
    "***Dropping columns with PySpark***\n",
    "- dropping single column. e.g df.drop('column_name')\n",
    "- dropping multiple column. e.g df.drop('column1', 'column_2',...)\n",
    "- docs: https://spark.apache.org/docs/latest/api/python/reference/pyspark.sql/api/pyspark.sql.DataFrame.drop.html"
   ]
  },
  {
   "cell_type": "code",
   "execution_count": 17,
   "id": "2b3c5ccc-d5aa-4f98-8508-c56bb4cf5efa",
   "metadata": {},
   "outputs": [
    {
     "name": "stdout",
     "output_type": "stream",
     "text": [
      "+----------+------+----------+-----------+---------+--------------+-------+-----------+-----+\n",
      "|     Brand| Model|      Year|Engine_Size|Fuel_Type|  Transmission|Mileage|Owner_Count|Price|\n",
      "+----------+------+----------+-----------+---------+--------------+-------+-----------+-----+\n",
      "|       Kia|   Rio|2020-01-01|        4.2|   Diesel|        Manual| 289944|          5| 8501|\n",
      "| Chevrolet|Malibu|2012-01-01|        2.0|   Hybrid|     Automatic|   5356|          3|12092|\n",
      "|  Mercedes|   GLA|2020-01-01|        4.2|   Diesel|     Automatic| 231440|          2|11171|\n",
      "|      Audi|    Q5|2023-01-01|        2.0| Electric|        Manual| 160971|          1|11780|\n",
      "|Volkswagen|  Golf|2003-01-01|        2.6|   Hybrid|Semi-Automatic| 286618|          3| 2867|\n",
      "+----------+------+----------+-----------+---------+--------------+-------+-----------+-----+\n",
      "only showing top 5 rows\n",
      "\n"
     ]
    }
   ],
   "source": [
    "df.drop('Doors').show(5)"
   ]
  },
  {
   "cell_type": "code",
   "execution_count": 18,
   "id": "dd9a1a24-61bb-439b-b307-3497a33f59cf",
   "metadata": {},
   "outputs": [
    {
     "name": "stdout",
     "output_type": "stream",
     "text": [
      "+----------+------+----------+-----------+---------+-------+-----+-----+\n",
      "|     Brand| Model|      Year|Engine_Size|Fuel_Type|Mileage|Doors|Price|\n",
      "+----------+------+----------+-----------+---------+-------+-----+-----+\n",
      "|       Kia|   Rio|2020-01-01|        4.2|   Diesel| 289944|    3| 8501|\n",
      "| Chevrolet|Malibu|2012-01-01|        2.0|   Hybrid|   5356|    2|12092|\n",
      "|  Mercedes|   GLA|2020-01-01|        4.2|   Diesel| 231440|    4|11171|\n",
      "|      Audi|    Q5|2023-01-01|        2.0| Electric| 160971|    2|11780|\n",
      "|Volkswagen|  Golf|2003-01-01|        2.6|   Hybrid| 286618|    3| 2867|\n",
      "+----------+------+----------+-----------+---------+-------+-----+-----+\n",
      "only showing top 5 rows\n",
      "\n"
     ]
    }
   ],
   "source": [
    "df.drop('Transmission', 'Owner_Count').show(5)"
   ]
  },
  {
   "cell_type": "markdown",
   "id": "77c89334-9f13-428a-ab2e-7211abb0b579",
   "metadata": {},
   "source": [
    "***Renaming columns in Pyspark***\n",
    "- renaimng single column: df.withColumnRenamed('Prvious_column_name', 'new_column_name')\n",
    "- renaming multiple columns: df.withColumnsRenamed({'from_col_1: 'to_col_1', 'from_col_2': 'to_col_2', ...})\n",
    "- docs: https://spark.apache.org/docs/latest/api/python/reference/pyspark.sql/api/pyspark.sql.DataFrame.withColumnsRenamed.html"
   ]
  },
  {
   "cell_type": "code",
   "execution_count": 19,
   "id": "2f0d5170-7575-41e9-b994-f90272ea9725",
   "metadata": {},
   "outputs": [
    {
     "name": "stdout",
     "output_type": "stream",
     "text": [
      "+----------+------+----------+-----------+---------+--------------+-------+-----+-----------+-----------------+\n",
      "|     Brand| Model|      Year|Engine_Size|Fuel_Type|  Transmission|Mileage|Doors|Owner_Count|Price_without_tax|\n",
      "+----------+------+----------+-----------+---------+--------------+-------+-----+-----------+-----------------+\n",
      "|       Kia|   Rio|2020-01-01|        4.2|   Diesel|        Manual| 289944|    3|          5|             8501|\n",
      "| Chevrolet|Malibu|2012-01-01|        2.0|   Hybrid|     Automatic|   5356|    2|          3|            12092|\n",
      "|  Mercedes|   GLA|2020-01-01|        4.2|   Diesel|     Automatic| 231440|    4|          2|            11171|\n",
      "|      Audi|    Q5|2023-01-01|        2.0| Electric|        Manual| 160971|    2|          1|            11780|\n",
      "|Volkswagen|  Golf|2003-01-01|        2.6|   Hybrid|Semi-Automatic| 286618|    3|          3|             2867|\n",
      "+----------+------+----------+-----------+---------+--------------+-------+-----+-----------+-----------------+\n",
      "only showing top 5 rows\n",
      "\n"
     ]
    }
   ],
   "source": [
    "df.withColumnRenamed('Price', 'Price_without_tax').show(5)"
   ]
  },
  {
   "cell_type": "code",
   "execution_count": 20,
   "id": "0ac70108-ea79-40e2-a4ce-463f08bcb34f",
   "metadata": {},
   "outputs": [
    {
     "name": "stdout",
     "output_type": "stream",
     "text": [
      "+----------+------+----------+-----------+---------+--------------+------+------------+-----------+-----+\n",
      "|     Brand| Model|      Year|Engine_Size|Fuel_Type|  Transmission|  KM/h|Num_of_doors|Owner_Count|Price|\n",
      "+----------+------+----------+-----------+---------+--------------+------+------------+-----------+-----+\n",
      "|       Kia|   Rio|2020-01-01|        4.2|   Diesel|        Manual|289944|           3|          5| 8501|\n",
      "| Chevrolet|Malibu|2012-01-01|        2.0|   Hybrid|     Automatic|  5356|           2|          3|12092|\n",
      "|  Mercedes|   GLA|2020-01-01|        4.2|   Diesel|     Automatic|231440|           4|          2|11171|\n",
      "|      Audi|    Q5|2023-01-01|        2.0| Electric|        Manual|160971|           2|          1|11780|\n",
      "|Volkswagen|  Golf|2003-01-01|        2.6|   Hybrid|Semi-Automatic|286618|           3|          3| 2867|\n",
      "+----------+------+----------+-----------+---------+--------------+------+------------+-----------+-----+\n",
      "only showing top 5 rows\n",
      "\n"
     ]
    }
   ],
   "source": [
    "df.withColumnsRenamed({'Mileage': 'KM/h', 'Doors': 'Num_of_doors'}).show(5)"
   ]
  },
  {
   "cell_type": "markdown",
   "id": "97a32f83-ee7f-45b4-a39a-94069f78165f",
   "metadata": {},
   "source": [
    "***Using Pyspark Functions***\n",
    "- It is present in the pyspark.sql.functions\n",
    "- Docs: https://spark.apache.org/docs/latest/api/python/reference/pyspark.sql/functions.html\n",
    "- Will Handle all the functions in a separeate file."
   ]
  },
  {
   "cell_type": "markdown",
   "id": "049305c5-8a27-486b-a68e-b4ee97f3561c",
   "metadata": {},
   "source": [
    "***Group By***\n",
    "- df.groupBy('column_name').sum/mean or any formula\n",
    "- docs: https://spark.apache.org/docs/latest/api/python/reference/pyspark.sql/api/pyspark.sql.DataFrame.groupBy.html"
   ]
  },
  {
   "cell_type": "code",
   "execution_count": 21,
   "id": "e04f3487-6a4e-475f-b126-21274c3bc8c5",
   "metadata": {},
   "outputs": [
    {
     "name": "stdout",
     "output_type": "stream",
     "text": [
      "+----------+-----------------+\n",
      "|     Brand|       avg(Price)|\n",
      "+----------+-----------------+\n",
      "|Volkswagen|8928.377450980392|\n",
      "|       Kia| 8880.08606557377|\n",
      "| Chevrolet|9015.683948155533|\n",
      "|   Hyundai|8778.279396984924|\n",
      "|     Honda|8665.596630327056|\n",
      "|      Audi| 8929.37379576108|\n",
      "|  Mercedes|8980.087048832273|\n",
      "|       BMW|8704.068068068069|\n",
      "|    Toyota|8798.184536082474|\n",
      "|      Ford|8852.570610687022|\n",
      "+----------+-----------------+\n",
      "\n"
     ]
    }
   ],
   "source": [
    "df.groupBy('Brand').avg('Price').show()"
   ]
  },
  {
   "cell_type": "code",
   "execution_count": 22,
   "id": "5321486d-8218-4445-89a5-b326fce14f5b",
   "metadata": {},
   "outputs": [
    {
     "name": "stdout",
     "output_type": "stream",
     "text": [
      "+---------+------------------+\n",
      "|Fuel_Type|    AverageMileage|\n",
      "+---------+------------------+\n",
      "|   Diesel|150261.53304140127|\n",
      "|   Hybrid|145577.58703628212|\n",
      "| Electric|151059.30742857142|\n",
      "|   Petrol|149917.69460580914|\n",
      "+---------+------------------+\n",
      "\n"
     ]
    }
   ],
   "source": [
    "# e.g 2\n",
    "df.groupBy('Fuel_Type').avg('Mileage').withColumnRenamed('avg(Mileage)', 'AverageMileage').show()"
   ]
  },
  {
   "cell_type": "code",
   "execution_count": 23,
   "id": "47fd1826-d348-4f8c-a0ae-72bec99e3948",
   "metadata": {},
   "outputs": [
    {
     "name": "stdout",
     "output_type": "stream",
     "text": [
      "+---------+----------+\n",
      "|Fuel_Type|SumOfPrice|\n",
      "+---------+----------+\n",
      "|   Diesel|  20390749|\n",
      "|   Hybrid|  22354263|\n",
      "| Electric|  26334578|\n",
      "|   Petrol|  19450054|\n",
      "+---------+----------+\n",
      "\n"
     ]
    }
   ],
   "source": [
    "# e.g 3\n",
    "df.groupBy('Fuel_Type').sum('Price').withColumnRenamed('sum(Price)', 'SumOfPrice').show()"
   ]
  },
  {
   "cell_type": "markdown",
   "id": "23dcfaec-e7b5-46dc-b7e1-9b350fc93ba4",
   "metadata": {},
   "source": [
    "***User Defind Functions in Pyspark(UDF)***\n",
    "- User defind functions can be found on pyspark.sql.functions\n",
    "- We can use any function as sparks udf with adding decorator to a function.\n",
    "- docs: https://spark.apache.org/docs/latest/api/python/reference/pyspark.sql/api/pyspark.sql.functions.udf.html"
   ]
  },
  {
   "cell_type": "code",
   "execution_count": 24,
   "id": "1d40120c-30a0-48f1-b9ed-138c379a9709",
   "metadata": {},
   "outputs": [],
   "source": [
    "# from pyspark.sql.functions import udf\n",
    "# from pyspark.sql.types import IntegerType\n",
    "\n",
    "# @udf(returnType=IntegerType())\n",
    "# def my_func(num):\n",
    "#     # function to add 18% of GST to price\n",
    "#     if num is not None:\n",
    "#         return num + 2\n",
    "# # This will work with spark enging not inbuilt java engine \n",
    "# df.select(my_func('Price')).show()\n",
    "\n",
    "\n",
    "# # tried this with google colab with ths example \n",
    "\n",
    "# from pyspark.sql import SparkSession\n",
    "# spark = SparkSession.builder.appName('my_app').master('local[*]').getOrCreate()\n",
    "\n",
    "# df = spark.read.csv('/content/sample_data/california_housing_test.csv', header=True)\n",
    "# df.printSchema()\n",
    "\n",
    "# from pyspark.sql.functions import udf\n",
    "\n",
    "# @udf\n",
    "# def my_func(name):\n",
    "#   if name is not None:\n",
    "#     return str(float(name) + 1)\n",
    "\n",
    "# df.select('*', my_func(df.housing_median_age).alias('housing_median_age + 1')).show(5)"
   ]
  },
  {
   "cell_type": "markdown",
   "id": "a6c4bc0b-835b-45d6-9efb-b50c8aeaf1df",
   "metadata": {},
   "source": [
    "***Pandas dataFrame to PySpark  dataframe and vice versa***\n",
    "- to pandas: df_pd = df.toPandas()\n",
    "- to spasrk: df_sp = spark_session.createDataFrame(df_pd)\n",
    "- docs: https://spark.apache.org/docs/latest/api/python/user_guide/pandas_on_spark/pandas_pyspark.html"
   ]
  },
  {
   "cell_type": "code",
   "execution_count": 25,
   "id": "04e9e1d7-2958-4614-b63d-082941c34ae6",
   "metadata": {},
   "outputs": [
    {
     "data": {
      "text/html": [
       "<div>\n",
       "<style scoped>\n",
       "    .dataframe tbody tr th:only-of-type {\n",
       "        vertical-align: middle;\n",
       "    }\n",
       "\n",
       "    .dataframe tbody tr th {\n",
       "        vertical-align: top;\n",
       "    }\n",
       "\n",
       "    .dataframe thead th {\n",
       "        text-align: right;\n",
       "    }\n",
       "</style>\n",
       "<table border=\"1\" class=\"dataframe\">\n",
       "  <thead>\n",
       "    <tr style=\"text-align: right;\">\n",
       "      <th></th>\n",
       "      <th>Brand</th>\n",
       "      <th>Model</th>\n",
       "      <th>Year</th>\n",
       "      <th>Engine_Size</th>\n",
       "      <th>Fuel_Type</th>\n",
       "      <th>Transmission</th>\n",
       "      <th>Mileage</th>\n",
       "      <th>Doors</th>\n",
       "      <th>Owner_Count</th>\n",
       "      <th>Price</th>\n",
       "    </tr>\n",
       "  </thead>\n",
       "  <tbody>\n",
       "    <tr>\n",
       "      <th>0</th>\n",
       "      <td>Kia</td>\n",
       "      <td>Rio</td>\n",
       "      <td>2020-01-01</td>\n",
       "      <td>4.2</td>\n",
       "      <td>Diesel</td>\n",
       "      <td>Manual</td>\n",
       "      <td>289944</td>\n",
       "      <td>3</td>\n",
       "      <td>5</td>\n",
       "      <td>8501</td>\n",
       "    </tr>\n",
       "    <tr>\n",
       "      <th>1</th>\n",
       "      <td>Chevrolet</td>\n",
       "      <td>Malibu</td>\n",
       "      <td>2012-01-01</td>\n",
       "      <td>2.0</td>\n",
       "      <td>Hybrid</td>\n",
       "      <td>Automatic</td>\n",
       "      <td>5356</td>\n",
       "      <td>2</td>\n",
       "      <td>3</td>\n",
       "      <td>12092</td>\n",
       "    </tr>\n",
       "    <tr>\n",
       "      <th>2</th>\n",
       "      <td>Mercedes</td>\n",
       "      <td>GLA</td>\n",
       "      <td>2020-01-01</td>\n",
       "      <td>4.2</td>\n",
       "      <td>Diesel</td>\n",
       "      <td>Automatic</td>\n",
       "      <td>231440</td>\n",
       "      <td>4</td>\n",
       "      <td>2</td>\n",
       "      <td>11171</td>\n",
       "    </tr>\n",
       "    <tr>\n",
       "      <th>3</th>\n",
       "      <td>Audi</td>\n",
       "      <td>Q5</td>\n",
       "      <td>2023-01-01</td>\n",
       "      <td>2.0</td>\n",
       "      <td>Electric</td>\n",
       "      <td>Manual</td>\n",
       "      <td>160971</td>\n",
       "      <td>2</td>\n",
       "      <td>1</td>\n",
       "      <td>11780</td>\n",
       "    </tr>\n",
       "    <tr>\n",
       "      <th>4</th>\n",
       "      <td>Volkswagen</td>\n",
       "      <td>Golf</td>\n",
       "      <td>2003-01-01</td>\n",
       "      <td>2.6</td>\n",
       "      <td>Hybrid</td>\n",
       "      <td>Semi-Automatic</td>\n",
       "      <td>286618</td>\n",
       "      <td>3</td>\n",
       "      <td>3</td>\n",
       "      <td>2867</td>\n",
       "    </tr>\n",
       "  </tbody>\n",
       "</table>\n",
       "</div>"
      ],
      "text/plain": [
       "        Brand   Model        Year  Engine_Size Fuel_Type    Transmission  \\\n",
       "0         Kia     Rio  2020-01-01          4.2    Diesel          Manual   \n",
       "1   Chevrolet  Malibu  2012-01-01          2.0    Hybrid       Automatic   \n",
       "2    Mercedes     GLA  2020-01-01          4.2    Diesel       Automatic   \n",
       "3        Audi      Q5  2023-01-01          2.0  Electric          Manual   \n",
       "4  Volkswagen    Golf  2003-01-01          2.6    Hybrid  Semi-Automatic   \n",
       "\n",
       "   Mileage  Doors  Owner_Count  Price  \n",
       "0   289944      3            5   8501  \n",
       "1     5356      2            3  12092  \n",
       "2   231440      4            2  11171  \n",
       "3   160971      2            1  11780  \n",
       "4   286618      3            3   2867  "
      ]
     },
     "execution_count": 25,
     "metadata": {},
     "output_type": "execute_result"
    }
   ],
   "source": [
    "# converting spark dataframe to pandas\n",
    "df_pd = df.toPandas()\n",
    "df_pd.head(5)"
   ]
  },
  {
   "cell_type": "code",
   "execution_count": 26,
   "id": "600ea100-4eea-4112-802b-83652c54b70e",
   "metadata": {},
   "outputs": [
    {
     "data": {
      "text/plain": [
       "Brand            object\n",
       "Model            object\n",
       "Year             object\n",
       "Engine_Size     float32\n",
       "Fuel_Type        object\n",
       "Transmission     object\n",
       "Mileage           int32\n",
       "Doors             int32\n",
       "Owner_Count       int32\n",
       "Price             int32\n",
       "dtype: object"
      ]
     },
     "execution_count": 26,
     "metadata": {},
     "output_type": "execute_result"
    }
   ],
   "source": [
    "df_pd.dtypes"
   ]
  },
  {
   "cell_type": "code",
   "execution_count": 27,
   "id": "8c31a09e-4ae7-4aa9-964a-afd611460edb",
   "metadata": {},
   "outputs": [],
   "source": [
    "# converting pandas dataframe to spark dataframe\n",
    "# This will workj with spark engind tested in google colab\n",
    "# new_sp_df = spark.createDataFrame(df_pd)\n",
    "# new_sp_df.show()"
   ]
  },
  {
   "cell_type": "markdown",
   "id": "ec7e6ee3-7b59-4490-a9b5-5c3551a91905",
   "metadata": {},
   "source": [
    "***Handling null values in pyspark DataFrame***\n",
    "- df.na.fill(0).show()"
   ]
  },
  {
   "cell_type": "code",
   "execution_count": 28,
   "id": "44edb643-720d-445c-a275-17227d0b8d47",
   "metadata": {},
   "outputs": [
    {
     "name": "stdout",
     "output_type": "stream",
     "text": [
      "+----------+------+----------+-----------+---------+--------------+-------+-----+-----------+-----+\n",
      "|     Brand| Model|      Year|Engine_Size|Fuel_Type|  Transmission|Mileage|Doors|Owner_Count|Price|\n",
      "+----------+------+----------+-----------+---------+--------------+-------+-----+-----------+-----+\n",
      "|       Kia|   Rio|2020-01-01|        4.2|   Diesel|        Manual| 289944|    3|          5| 8501|\n",
      "| Chevrolet|Malibu|2012-01-01|        2.0|   Hybrid|     Automatic|   5356|    2|          3|12092|\n",
      "|  Mercedes|   GLA|2020-01-01|        4.2|   Diesel|     Automatic| 231440|    4|          2|11171|\n",
      "|      Audi|    Q5|2023-01-01|        2.0| Electric|        Manual| 160971|    2|          1|11780|\n",
      "|Volkswagen|  Golf|2003-01-01|        2.6|   Hybrid|Semi-Automatic| 286618|    3|          3| 2867|\n",
      "+----------+------+----------+-----------+---------+--------------+-------+-----+-----------+-----+\n",
      "only showing top 5 rows\n",
      "\n"
     ]
    }
   ],
   "source": [
    "df.na.fill(0).show(5)"
   ]
  },
  {
   "cell_type": "code",
   "execution_count": 29,
   "id": "27c8ceb5-7803-4b75-a010-e689b3e9229c",
   "metadata": {},
   "outputs": [
    {
     "name": "stdout",
     "output_type": "stream",
     "text": [
      "+----------+------+----------+-----------+---------+--------------+-------+-----+-----------+-----+\n",
      "|     Brand| Model|      Year|Engine_Size|Fuel_Type|  Transmission|Mileage|Doors|Owner_Count|Price|\n",
      "+----------+------+----------+-----------+---------+--------------+-------+-----+-----------+-----+\n",
      "|       Kia|   Rio|2020-01-01|        4.2|   Diesel|        Manual| 289944|    3|          5| 8501|\n",
      "| Chevrolet|Malibu|2012-01-01|        2.0|   Hybrid|     Automatic|   5356|    2|          3|12092|\n",
      "|  Mercedes|   GLA|2020-01-01|        4.2|   Diesel|     Automatic| 231440|    4|          2|11171|\n",
      "|      Audi|    Q5|2023-01-01|        2.0| Electric|        Manual| 160971|    2|          1|11780|\n",
      "|Volkswagen|  Golf|2003-01-01|        2.6|   Hybrid|Semi-Automatic| 286618|    3|          3| 2867|\n",
      "+----------+------+----------+-----------+---------+--------------+-------+-----+-----------+-----+\n",
      "only showing top 5 rows\n",
      "\n"
     ]
    }
   ],
   "source": [
    "df.fillna({\"Model\": \"classified\"}).show(5)"
   ]
  },
  {
   "cell_type": "code",
   "execution_count": 30,
   "id": "a802340c-98b8-45bc-8d4a-5c6e73f6aa42",
   "metadata": {},
   "outputs": [],
   "source": [
    "spark.stop()"
   ]
  }
 ],
 "metadata": {
  "kernelspec": {
   "display_name": "Python 3 (ipykernel)",
   "language": "python",
   "name": "python3"
  },
  "language_info": {
   "codemirror_mode": {
    "name": "ipython",
    "version": 3
   },
   "file_extension": ".py",
   "mimetype": "text/x-python",
   "name": "python",
   "nbconvert_exporter": "python",
   "pygments_lexer": "ipython3",
   "version": "3.12.2"
  }
 },
 "nbformat": 4,
 "nbformat_minor": 5
}
