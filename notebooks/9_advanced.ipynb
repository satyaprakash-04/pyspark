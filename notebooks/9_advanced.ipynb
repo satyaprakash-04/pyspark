{
 "cells": [
  {
   "cell_type": "code",
   "execution_count": 1,
   "id": "0f62c05a-a61a-427c-b258-33918708240a",
   "metadata": {},
   "outputs": [],
   "source": [
    "from pyspark.sql import SparkSession"
   ]
  },
  {
   "cell_type": "code",
   "execution_count": 2,
   "id": "d627e0c0-2c43-47ff-8121-b167fce1e71c",
   "metadata": {},
   "outputs": [
    {
     "name": "stderr",
     "output_type": "stream",
     "text": [
      "25/04/23 14:32:39 WARN Utils: Your hostname, nav137 resolves to a loopback address: 127.0.1.1; using 192.168.0.79 instead (on interface enp2s0)\n",
      "25/04/23 14:32:39 WARN Utils: Set SPARK_LOCAL_IP if you need to bind to another address\n",
      "Setting default log level to \"WARN\".\n",
      "To adjust logging level use sc.setLogLevel(newLevel). For SparkR, use setLogLevel(newLevel).\n",
      "25/04/23 14:32:40 WARN NativeCodeLoader: Unable to load native-hadoop library for your platform... using builtin-java classes where applicable\n"
     ]
    },
    {
     "data": {
      "text/html": [
       "\n",
       "            <div>\n",
       "                <p><b>SparkSession - in-memory</b></p>\n",
       "                \n",
       "        <div>\n",
       "            <p><b>SparkContext</b></p>\n",
       "\n",
       "            <p><a href=\"http://192.168.0.79:4040\">Spark UI</a></p>\n",
       "\n",
       "            <dl>\n",
       "              <dt>Version</dt>\n",
       "                <dd><code>v3.5.1</code></dd>\n",
       "              <dt>Master</dt>\n",
       "                <dd><code>local[*]</code></dd>\n",
       "              <dt>AppName</dt>\n",
       "                <dd><code>sparkapp</code></dd>\n",
       "            </dl>\n",
       "        </div>\n",
       "        \n",
       "            </div>\n",
       "        "
      ],
      "text/plain": [
       "<pyspark.sql.session.SparkSession at 0x7f573e5a0350>"
      ]
     },
     "execution_count": 2,
     "metadata": {},
     "output_type": "execute_result"
    }
   ],
   "source": [
    "spark = SparkSession.builder.appName('sparkapp').getOrCreate()\n",
    "spark"
   ]
  },
  {
   "cell_type": "code",
   "execution_count": 7,
   "id": "7a09e9f0-38ba-43d3-afea-eff4a5c8246d",
   "metadata": {},
   "outputs": [
    {
     "name": "stdout",
     "output_type": "stream",
     "text": [
      "+---------+--------+\n",
      "|  column0| column1|\n",
      "+---------+--------+\n",
      "|    first|    last|\n",
      "|    Jorge|   Frank|\n",
      "|   Hunter|  Moreno|\n",
      "|   Esther|  Guzman|\n",
      "|   Dennis|Stephens|\n",
      "|   Nettie|Franklin|\n",
      "|  Stanley|  Gibson|\n",
      "|  Eugenia|   Greer|\n",
      "|  Jeffery| Delgado|\n",
      "|    Clara|   Cross|\n",
      "|  Bernice|    Vega|\n",
      "|    Kevin|    Diaz|\n",
      "|Henrietta|  Rivera|\n",
      "|  Matilda|   Ellis|\n",
      "|    Isaac|  Willis|\n",
      "|     Eric|    Cain|\n",
      "|   Hettie| Baldwin|\n",
      "|    Tommy| Wheeler|\n",
      "|  Theresa|   Casey|\n",
      "|     Bess| Griffin|\n",
      "+---------+--------+\n",
      "only showing top 20 rows\n",
      "\n"
     ]
    }
   ],
   "source": [
    "df = spark.read.parquet('sample1.parquet', inferSchema=True, header=True)\n",
    "df.show()"
   ]
  },
  {
   "cell_type": "code",
   "execution_count": null,
   "id": "665d14e9-6cbf-4647-8a24-da64f62b951c",
   "metadata": {},
   "outputs": [],
   "source": []
  }
 ],
 "metadata": {
  "kernelspec": {
   "display_name": "Python 3 (ipykernel)",
   "language": "python",
   "name": "python3"
  },
  "language_info": {
   "codemirror_mode": {
    "name": "ipython",
    "version": 3
   },
   "file_extension": ".py",
   "mimetype": "text/x-python",
   "name": "python",
   "nbconvert_exporter": "python",
   "pygments_lexer": "ipython3",
   "version": "3.11.12"
  }
 },
 "nbformat": 4,
 "nbformat_minor": 5
}
