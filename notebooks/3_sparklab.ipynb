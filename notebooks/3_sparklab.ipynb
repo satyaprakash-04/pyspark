{
 "cells": [
  {
   "cell_type": "markdown",
   "id": "86bf3f01-7b95-4dd8-a8de-04b790958d6e",
   "metadata": {},
   "source": [
    "## Manipulating Columns in PySpark"
   ]
  },
  {
   "cell_type": "code",
   "execution_count": 1,
   "id": "7449e864-a9eb-400e-8c73-4e89b9fa3fbc",
   "metadata": {},
   "outputs": [],
   "source": [
    "from pyspark.sql import SparkSession"
   ]
  },
  {
   "cell_type": "code",
   "execution_count": 2,
   "id": "45553c1a-05e5-401c-a9db-b161951c03a6",
   "metadata": {},
   "outputs": [],
   "source": [
    "spark = SparkSession.builder.appName('spark_app_3').master('local[*]').getOrCreate()"
   ]
  },
  {
   "cell_type": "code",
   "execution_count": 3,
   "id": "b0c0d6b8-555b-4805-9475-b4235706c90f",
   "metadata": {},
   "outputs": [
    {
     "data": {
      "text/html": [
       "\n",
       "            <div>\n",
       "                <p><b>SparkSession - in-memory</b></p>\n",
       "                \n",
       "        <div>\n",
       "            <p><b>SparkContext</b></p>\n",
       "\n",
       "            <p><a href=\"http://host.docker.internal:4040\">Spark UI</a></p>\n",
       "\n",
       "            <dl>\n",
       "              <dt>Version</dt>\n",
       "                <dd><code>v3.5.5</code></dd>\n",
       "              <dt>Master</dt>\n",
       "                <dd><code>local[*]</code></dd>\n",
       "              <dt>AppName</dt>\n",
       "                <dd><code>spark_app_3</code></dd>\n",
       "            </dl>\n",
       "        </div>\n",
       "        \n",
       "            </div>\n",
       "        "
      ],
      "text/plain": [
       "<pyspark.sql.session.SparkSession at 0x14698e8ccb0>"
      ]
     },
     "execution_count": 3,
     "metadata": {},
     "output_type": "execute_result"
    }
   ],
   "source": [
    "spark"
   ]
  },
  {
   "cell_type": "code",
   "execution_count": 4,
   "id": "3129702a-0b13-4c4f-a94a-2c1e29f178e1",
   "metadata": {},
   "outputs": [],
   "source": [
    "df = spark.read.csv('car_price_dataset.csv', header=True, inferSchema=True)"
   ]
  },
  {
   "cell_type": "code",
   "execution_count": 5,
   "id": "76d5c2a4-8227-4ef2-89f9-9ae6e7dec866",
   "metadata": {},
   "outputs": [
    {
     "name": "stdout",
     "output_type": "stream",
     "text": [
      "+----------+------+----+-----------+---------+--------------+-------+-----+-----------+-----+\n",
      "|     Brand| Model|Year|Engine_Size|Fuel_Type|  Transmission|Mileage|Doors|Owner_Count|Price|\n",
      "+----------+------+----+-----------+---------+--------------+-------+-----+-----------+-----+\n",
      "|       Kia|   Rio|2020|        4.2|   Diesel|        Manual| 289944|    3|          5| 8501|\n",
      "| Chevrolet|Malibu|2012|        2.0|   Hybrid|     Automatic|   5356|    2|          3|12092|\n",
      "|  Mercedes|   GLA|2020|        4.2|   Diesel|     Automatic| 231440|    4|          2|11171|\n",
      "|      Audi|    Q5|2023|        2.0| Electric|        Manual| 160971|    2|          1|11780|\n",
      "|Volkswagen|  Golf|2003|        2.6|   Hybrid|Semi-Automatic| 286618|    3|          3| 2867|\n",
      "+----------+------+----+-----------+---------+--------------+-------+-----+-----------+-----+\n",
      "only showing top 5 rows\n",
      "\n"
     ]
    }
   ],
   "source": [
    "df.show(5)"
   ]
  },
  {
   "cell_type": "code",
   "execution_count": 6,
   "id": "1d537f52-576e-4374-9e8e-e0b08298464b",
   "metadata": {},
   "outputs": [
    {
     "name": "stdout",
     "output_type": "stream",
     "text": [
      "+----------+------+----+-----------+---------+--------------+-------+-----+-----------+-----+---------+\n",
      "|     Brand| Model|Year|Engine_Size|Fuel_Type|  Transmission|Mileage|Doors|Owner_Count|Price|new_price|\n",
      "+----------+------+----+-----------+---------+--------------+-------+-----+-----------+-----+---------+\n",
      "|       Kia|   Rio|2020|        4.2|   Diesel|        Manual| 289944|    3|          5| 8501| 10031.18|\n",
      "| Chevrolet|Malibu|2012|        2.0|   Hybrid|     Automatic|   5356|    2|          3|12092| 14268.56|\n",
      "|  Mercedes|   GLA|2020|        4.2|   Diesel|     Automatic| 231440|    4|          2|11171| 13181.78|\n",
      "|      Audi|    Q5|2023|        2.0| Electric|        Manual| 160971|    2|          1|11780|  13900.4|\n",
      "|Volkswagen|  Golf|2003|        2.6|   Hybrid|Semi-Automatic| 286618|    3|          3| 2867|  3383.06|\n",
      "+----------+------+----+-----------+---------+--------------+-------+-----+-----------+-----+---------+\n",
      "only showing top 5 rows\n",
      "\n"
     ]
    }
   ],
   "source": [
    "from pyspark.sql.functions import lit, rand\n",
    "# lit: It basically creates a column and assigins value to that column\n",
    "# docs: \n",
    "df = df.withColumn('new_price', lit(df.Price+((18/100)*df.Price)))\n",
    "df.show(5)"
   ]
  },
  {
   "cell_type": "code",
   "execution_count": 7,
   "id": "55d3074b-75f4-47c2-9d65-bba65c60d245",
   "metadata": {},
   "outputs": [
    {
     "name": "stdout",
     "output_type": "stream",
     "text": [
      "+----------+--------+----+-----------+---------+--------------+-------+-----+-----------+---------+\n",
      "|     Brand|   Model|Year|Engine_Size|Fuel_Type|  Transmission|Mileage|Doors|Owner_Count|new_price|\n",
      "+----------+--------+----+-----------+---------+--------------+-------+-----+-----------+---------+\n",
      "|       Kia|     Rio|2020|        4.2|   Diesel|        Manual| 289944|    3|          5| 10031.18|\n",
      "| Chevrolet|  Malibu|2012|        2.0|   Hybrid|     Automatic|   5356|    2|          3| 14268.56|\n",
      "|  Mercedes|     GLA|2020|        4.2|   Diesel|     Automatic| 231440|    4|          2| 13181.78|\n",
      "|      Audi|      Q5|2023|        2.0| Electric|        Manual| 160971|    2|          1|  13900.4|\n",
      "|Volkswagen|    Golf|2003|        2.6|   Hybrid|Semi-Automatic| 286618|    3|          3|  3383.06|\n",
      "|    Toyota|   Camry|2007|        2.7|   Petrol|     Automatic| 157889|    4|          4|  8545.56|\n",
      "|     Honda|   Civic|2010|        3.4| Electric|     Automatic| 139584|    3|          1| 13225.44|\n",
      "|       Kia|Sportage|2001|        4.7| Electric|Semi-Automatic| 157495|    2|          2|   9381.0|\n",
      "|       Kia|Sportage|2014|        2.6|   Hybrid|        Manual|  98700|    3|          4| 11712.68|\n",
      "|    Toyota|    RAV4|2005|        3.1|   Petrol|        Manual| 107724|    2|          5|   7723.1|\n",
      "|       BMW|5 Series|2013|        1.3|   Hybrid|     Automatic| 296824|    2|          3|  6918.34|\n",
      "|Volkswagen|    Golf|2009|        4.5|   Hybrid|        Manual|  42795|    4|          3| 13503.92|\n",
      "|     Honda|    CR-V|2007|        4.8|   Hybrid|     Automatic| 132875|    3|          4| 12793.56|\n",
      "|   Hyundai| Elantra|2004|        2.3|   Hybrid|Semi-Automatic| 188996|    2|          1|   5687.6|\n",
      "|Volkswagen|    Golf|2003|        2.4|   Petrol|     Automatic| 145921|    5|          2|  7057.58|\n",
      "|Volkswagen|    Golf|2007|        3.2|   Diesel|     Automatic|  60103|    2|          1| 11442.46|\n",
      "|   Hyundai| Elantra|2017|        2.9| Electric|     Automatic|  38133|    5|          2| 17507.66|\n",
      "|Volkswagen|  Tiguan|2006|        4.5| Electric|        Manual|  41161|    2|          2| 13659.68|\n",
      "|       Kia|     Rio|2000|        3.4|   Diesel|Semi-Automatic| 257427|    3|          3|  2774.18|\n",
      "|  Mercedes|     GLA|2021|        1.5|   Petrol|        Manual|  34640|    2|          1| 13224.26|\n",
      "+----------+--------+----+-----------+---------+--------------+-------+-----+-----------+---------+\n",
      "only showing top 20 rows\n",
      "\n"
     ]
    }
   ],
   "source": [
    " # Drop a column\n",
    "df.drop('Price').show()"
   ]
  },
  {
   "cell_type": "code",
   "execution_count": null,
   "id": "b3a853c1-8991-424f-991d-30a3a20e161e",
   "metadata": {},
   "outputs": [],
   "source": []
  }
 ],
 "metadata": {
  "kernelspec": {
   "display_name": "Python 3 (ipykernel)",
   "language": "python",
   "name": "python3"
  },
  "language_info": {
   "codemirror_mode": {
    "name": "ipython",
    "version": 3
   },
   "file_extension": ".py",
   "mimetype": "text/x-python",
   "name": "python",
   "nbconvert_exporter": "python",
   "pygments_lexer": "ipython3",
   "version": "3.12.2"
  }
 },
 "nbformat": 4,
 "nbformat_minor": 5
}
