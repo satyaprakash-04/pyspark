{
 "cells": [
  {
   "cell_type": "code",
   "execution_count": 1,
   "id": "f707ff5b-78a5-46bb-bfcb-c76bda83fe71",
   "metadata": {},
   "outputs": [],
   "source": [
    "import boto3\n",
    "import os\n",
    "from io import StringIO\n",
    "from dotenv import load_dotenv\n",
    "load_dotenv()\n",
    "AWS_ACCESS_KEY = os.environ['AWS_ACCESS_KEY']\n",
    "AWS_SECRET_KEY = os.environ['AWS_SECRET_KEY']\n",
    "AWS_REGION = os.environ['AWS_REGION']\n",
    "BUCKET = os.environ['BUCKET']"
   ]
  },
  {
   "cell_type": "code",
   "execution_count": 2,
   "id": "9818f821-cfb7-4c2a-9086-c31b5aeb8055",
   "metadata": {},
   "outputs": [
    {
     "data": {
      "text/plain": [
       "<botocore.client.S3 at 0x1b352729fd0>"
      ]
     },
     "execution_count": 2,
     "metadata": {},
     "output_type": "execute_result"
    }
   ],
   "source": [
    "s3_client = boto3.client(\n",
    "            's3',\n",
    "            region_name=AWS_REGION,\n",
    "            aws_access_key_id=AWS_ACCESS_KEY,\n",
    "            aws_secret_access_key=AWS_SECRET_KEY\n",
    "        )\n",
    "s3_client"
   ]
  },
  {
   "cell_type": "code",
   "execution_count": 5,
   "id": "c00dd0f8-1868-4e8b-be76-dd535ec2bf77",
   "metadata": {},
   "outputs": [
    {
     "data": {
      "text/plain": [
       "<botocore.client.S3 at 0x1b352758e60>"
      ]
     },
     "execution_count": 5,
     "metadata": {},
     "output_type": "execute_result"
    }
   ],
   "source": []
  },
  {
   "cell_type": "code",
   "execution_count": 4,
   "id": "c58fefdc-2657-4ba9-b437-edfb7cefb837",
   "metadata": {},
   "outputs": [
    {
     "data": {
      "text/plain": [
       "{'ResponseMetadata': {'RequestId': '9VSNR7EBJK30PCNW',\n",
       "  'HostId': 'kGKRd4BxkzBjnpY3Q/VFrFSAI2tBWi/91KOU+3s/EvOj0dEfUuwaKKYIRVE86aJudU9qbh8fTs/Tnzab0Y7IPW3p1SDus7Bs',\n",
       "  'HTTPStatusCode': 200,\n",
       "  'HTTPHeaders': {'x-amz-id-2': 'kGKRd4BxkzBjnpY3Q/VFrFSAI2tBWi/91KOU+3s/EvOj0dEfUuwaKKYIRVE86aJudU9qbh8fTs/Tnzab0Y7IPW3p1SDus7Bs',\n",
       "   'x-amz-request-id': '9VSNR7EBJK30PCNW',\n",
       "   'date': 'Sun, 06 Apr 2025 09:27:13 GMT',\n",
       "   'x-amz-server-side-encryption': 'AES256',\n",
       "   'etag': '\"592417ee76b630bcfef1886491c30598\"',\n",
       "   'x-amz-checksum-crc32': 'T46Big==',\n",
       "   'x-amz-checksum-type': 'FULL_OBJECT',\n",
       "   'content-length': '0',\n",
       "   'server': 'AmazonS3'},\n",
       "  'RetryAttempts': 1},\n",
       " 'ETag': '\"592417ee76b630bcfef1886491c30598\"',\n",
       " 'ChecksumCRC32': 'T46Big==',\n",
       " 'ChecksumType': 'FULL_OBJECT',\n",
       " 'ServerSideEncryption': 'AES256'}"
      ]
     },
     "execution_count": 4,
     "metadata": {},
     "output_type": "execute_result"
    }
   ],
   "source": [
    "s3_client.put_object(\n",
    "        Bucket=BUCKET,\n",
    "        Key='test_s3/test.txt',\n",
    "        Body=file_buffer\n",
    "    )"
   ]
  },
  {
   "cell_type": "code",
   "execution_count": null,
   "id": "4c70e366-5767-4338-ad1b-96363c2fc48a",
   "metadata": {},
   "outputs": [],
   "source": []
  }
 ],
 "metadata": {
  "kernelspec": {
   "display_name": "Python 3 (ipykernel)",
   "language": "python",
   "name": "python3"
  },
  "language_info": {
   "codemirror_mode": {
    "name": "ipython",
    "version": 3
   },
   "file_extension": ".py",
   "mimetype": "text/x-python",
   "name": "python",
   "nbconvert_exporter": "python",
   "pygments_lexer": "ipython3",
   "version": "3.12.2"
  }
 },
 "nbformat": 4,
 "nbformat_minor": 5
}
