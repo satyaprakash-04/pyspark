{
 "cells": [
  {
   "cell_type": "code",
   "execution_count": null,
   "id": "2593e35f-075b-46d7-ab89-bc536519cde3",
   "metadata": {},
   "outputs": [],
   "source": [
    "import boto3\n",
    "import os\n",
    "from io import StringIO\n",
    "from dotenv import load_dotenv\n",
    "load_dotenv()\n",
    "AWS_ACCESS_KEY = os.environ['AWS_ACCESS_KEY']\n",
    "AWS_SECRET_KEY = os.environ['AWS_SECRET_KEY']\n",
    "AWS_REGION = os.environ['AWS_REGION']\n",
    "BUCKET = os.environ['BUCKET']"
   ]
  }
 ],
 "metadata": {
  "kernelspec": {
   "display_name": "Python 3 (ipykernel)",
   "language": "python",
   "name": "python3"
  },
  "language_info": {
   "codemirror_mode": {
    "name": "ipython",
    "version": 3
   },
   "file_extension": ".py",
   "mimetype": "text/x-python",
   "name": "python",
   "nbconvert_exporter": "python",
   "pygments_lexer": "ipython3",
   "version": "3.12.2"
  }
 },
 "nbformat": 4,
 "nbformat_minor": 5
}
